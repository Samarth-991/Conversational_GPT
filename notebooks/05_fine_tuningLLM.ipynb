{
 "cells": [
  {
   "attachments": {},
   "cell_type": "markdown",
   "metadata": {},
   "source": [
    "### Fine Tunining Model with QLora\n",
    "- Large language models got bigger but, at the same time, we finally got the tools to do fine-tuning and inference on consumer hardware.\n",
    "\n",
    "- QLoRa, we can fine-tune models with billion parameters without relying on cloud computing and without a significant drop in performance according to the QLoRa paper."
   ]
  },
  {
   "cell_type": "code",
   "execution_count": 8,
   "metadata": {},
   "outputs": [],
   "source": [
    "import torch\n",
    "import numpy as np\n",
    "import pandas as pd \n",
    "from transformers import AutoTokenizer, AutoModelForCausalLM, BitsAndBytesConfig\n",
    "import json \n",
    "model_name = \"EleutherAI/gpt-neox-20b\"\n",
    "\n",
    "#Tokenizer\n",
    "tokenizer = AutoTokenizer.from_pretrained(model_name)"
   ]
  },
  {
   "cell_type": "code",
   "execution_count": 23,
   "metadata": {},
   "outputs": [
    {
     "name": "stdout",
     "output_type": "stream",
     "text": [
      "Total number of GPU's  1\n",
      "Maximum Availbale Memory for GPU : 4.0GB\n"
     ]
    }
   ],
   "source": [
    "free_in_GB = round(torch.cuda.mem_get_info()[1] / 1024**3,2)\n",
    "max_memory = f\"{free_in_GB}GB\"\n",
    "n_gpus = torch.cuda.device_count()\n",
    "print(\"Total number of GPU's \",n_gpus)\n",
    "print(\"Maximum Availbale Memory for GPU :\",max_memory)\n"
   ]
  },
  {
   "attachments": {},
   "cell_type": "markdown",
   "metadata": {},
   "source": [
    "### Installing libraries "
   ]
  },
  {
   "cell_type": "code",
   "execution_count": null,
   "metadata": {},
   "outputs": [],
   "source": [
    "# ! pip install -q -U bitsandbytes\n",
    "# ! pip install -q -U git+https://github.com/huggingface/transformers.git \n",
    "# ! pip install -q -U git+https://github.com/huggingface/peft.git\n",
    "# ! pip install -q -U git+https://github.com/huggingface/accelerate.git\n",
    "# ! pip install -q datasets"
   ]
  },
  {
   "attachments": {},
   "cell_type": "markdown",
   "metadata": {},
   "source": [
    "### Details  of Quantizer \n",
    "\n",
    "- load_in_4bit: The model will be loaded in the memory with 4-bit precision.\n",
    "- bnb_4bit_use_double_quant: We will do the double quantization proposed by QLoRa.\n",
    "- bnb_4bit_quant_type: This is the type of quantization. “nf4” stands for 4-bit NormalFloat.\n",
    "- bnb_4bit_compute_dtype: While we load and store the model in 4-bit, we will partially dequantize it when needed and do all the computations with a 16-bit precision (bfloat16)."
   ]
  },
  {
   "cell_type": "code",
   "execution_count": null,
   "metadata": {},
   "outputs": [],
   "source": [
    "quant_config = BitsAndBytesConfig(\n",
    "    load_in_4bit=True,\n",
    "    bnb_4bit_use_double_quant=True,\n",
    "    bnb_4bit_quant_type=\"nf4\",\n",
    "    bnb_4bit_compute_dtype=torch.bfloat16\n",
    ")"
   ]
  },
  {
   "attachments": {},
   "cell_type": "markdown",
   "metadata": {},
   "source": [
    "### Load the Model "
   ]
  },
  {
   "cell_type": "code",
   "execution_count": null,
   "metadata": {},
   "outputs": [],
   "source": [
    "model = AutoModelForCausalLM.from_pretrained(model_name, quantization_config=quant_config, device_map={\"\":0})"
   ]
  },
  {
   "attachments": {},
   "cell_type": "markdown",
   "metadata": {},
   "source": [
    "#### Enable the checkpointing"
   ]
  },
  {
   "cell_type": "code",
   "execution_count": null,
   "metadata": {},
   "outputs": [],
   "source": [
    "model.gradient_checkpointing_enable()"
   ]
  },
  {
   "attachments": {},
   "cell_type": "markdown",
   "metadata": {},
   "source": [
    "### Preprocessing the GPT model for LoRa\n",
    "This is where we use PEFT. We prepare the model for LoRa, adding trainable adapters for each layer."
   ]
  },
  {
   "cell_type": "code",
   "execution_count": null,
   "metadata": {},
   "outputs": [],
   "source": [
    "from peft import prepare_model_for_kbit_training, LoraConfig, get_peft_model\n",
    "\n",
    "model = prepare_model_for_kbit_training(model)\n",
    "\n",
    "config = LoraConfig(\n",
    "    r=8, \n",
    "    lora_alpha=32, \n",
    "    target_modules=[\"query_key_value\"], \n",
    "    lora_dropout=0.05, \n",
    "    bias=\"none\", \n",
    "    task_type=\"CAUSAL_LM\"\n",
    ")\n",
    "\n",
    "model = get_peft_model(model, config)"
   ]
  },
  {
   "attachments": {},
   "cell_type": "markdown",
   "metadata": {},
   "source": [
    "### Load a sample Dataset"
   ]
  },
  {
   "cell_type": "code",
   "execution_count": null,
   "metadata": {},
   "outputs": [],
   "source": [
    "from datasets import load_dataset\n",
    "data = load_dataset(\"Abirate/english_quotes\")\n",
    "data = data.map(lambda samples: tokenizer(samples[\"quote\"]), batched=True)"
   ]
  },
  {
   "attachments": {},
   "cell_type": "markdown",
   "metadata": {},
   "source": [
    "### Training the LLM for Sample Dataset "
   ]
  },
  {
   "cell_type": "code",
   "execution_count": null,
   "metadata": {},
   "outputs": [],
   "source": [
    "import transformers\n",
    "\n",
    "tokenizer.pad_token = tokenizer.eos_token\n",
    "\n",
    "trainer = transformers.Trainer(\n",
    "    model=model,\n",
    "    train_dataset=data[\"train\"],\n",
    "    args=transformers.TrainingArguments(\n",
    "        per_device_train_batch_size=1,\n",
    "        gradient_accumulation_steps=8,\n",
    "        warmup_steps=2,\n",
    "        max_steps=20,\n",
    "        learning_rate=2e-4,\n",
    "        fp16=True,\n",
    "        logging_steps=1,\n",
    "        output_dir=\"outputs\",\n",
    "        optim=\"paged_adamw_8bit\"\n",
    "    ),\n",
    "    data_collator=transformers.DataCollatorForLanguageModeling(tokenizer, mlm=False),\n",
    ")\n"
   ]
  },
  {
   "cell_type": "code",
   "execution_count": null,
   "metadata": {},
   "outputs": [],
   "source": [
    "trainer.train()"
   ]
  },
  {
   "attachments": {},
   "cell_type": "markdown",
   "metadata": {},
   "source": [
    "### Infererence"
   ]
  },
  {
   "cell_type": "code",
   "execution_count": null,
   "metadata": {},
   "outputs": [],
   "source": [
    "text = \"Ask not what your country\"\n",
    "device = \"cuda:0\"\n",
    "inputs = tokenizer(text, return_tensors=\"pt\").to(device)\n",
    "\n",
    "outputs = model.generate(**inputs, max_new_tokens=20)\n",
    "print(tokenizer.decode(outputs[0], skip_special_tokens=True))"
   ]
  },
  {
   "attachments": {},
   "cell_type": "markdown",
   "metadata": {},
   "source": [
    "### Training for Custom Dataset "
   ]
  },
  {
   "cell_type": "code",
   "execution_count": 7,
   "metadata": {},
   "outputs": [
    {
     "name": "stdout",
     "output_type": "stream",
     "text": [
      "Text : conversation between Customer and relationship manager Harvinder  in en language: Hello. Hello. This is Harvinder from Tripco Services. Are you looking for any mortgage? Yes. Yes. Let's see. Let's say I need a mortgage. Yeah. So I was just calling you that time. You had told me to do that. Okay. No worries. Okay. So it's a good time to talk to you sir. Raghasi mortgage sir. Yeah. Okay. So I just need some few details to check your eligibility. Okay. I just want to know are you residency or non-residency? Residency. Residency. Okay. Mehanu, what's your age sir? Thirty. You're age? Thirty three. Thirty three. Okay. And your salary or your self-employed sir? Ego. What's your salary? Your salary. Okay. Yeah. And Mehanu, like how much your salary? Forty. Forty thousand. Forty thousand. Okay. And Mehanu, since how long you're working in the same company? I was before you know that. Now I joined this one since December. December? Yeah. December means... You can say five months? Five to six months? Okay. Okay. May I know like how many credit cards do you have? I think I have four. Four. Okay. And what is the total limit? Approximately 150. 150K. Okay. Do you have any kind of a personal loan? No. I have a house loan currently. Mortgage do you have? You have mortgage? Yeah. Okay. And how much you're paying monthly for it? Seven thousand. Seven thousand you're paying for a mortgage? Yeah. And I have another pre-approved loan from another bank I'm going to use. As well as approximately eight thousand a month. Just give me a moment. Mortgage. How much you said? Seven thousand every month, right? Yeah. This is one, but I have approved another loan from another bank because I'm buying another property. Approximately eight thousand a month. Eight thousand. It means plus eight thousand and plus seven thousand you mean to say, right? The both. Correct. So why you're not thinking to do a buyout, sir? Everything you can come to a one mortgage, sir. If you have that, perfect for me. Let me try to do that, sir. There is a one more mortgage. So the mortgage I didn't use it. It's pre-approved. But if you can do a buyout where I can buy all the properties together first. So you want to buy an third property, right? Which is under mortgage? So I have now one and I have two of the properties. Okay. It will be handover three. I have three properties. They will be handover in the next two months. Okay. So I'm getting a loan to pay them off altogether. Each property already has been paid 45% of the value. Oh, that's very nice. Okay. May I know your nationality, sir? Venezuela. Sorry? Venezuela. Venezuela, right? Yes. Okay. And the plan is ready to move in or off plan? They won't right now. So let me explain. You have one. It will be ready to move in next month. I have another, I just bought, but I want the bank to pay the federal to pay the developer that remaining amount and I will pay the down payment. Okay. As well, we'll be ready to move next month. Okay. I have another one which has really 40%, 40% or 45% paid, which will be ready to handover in July or June. July or June. And let me see, oh, this is very inspection by the approach. Oh, that's very nice. Just let me write it down. So you can say has two properties already 40% paid? One property will be, I will pay, I don't know how much down payment has to be paid to be covered. So you have to make a calculation. Maybe I need to pay only 35% for all the properties all that by all together. So maybe you can make a calculation how much they already paid, how much you will give you loan, how much I have to pay. And for the second property you have paid 40%? 40% and 45% is on the ground. 45% Now this is more of a constant. The customer already paid. paid of plan. He will catch the and or in July, right? And over you will get in July. Sorry. And over you will get in June or July, June or July? June most probably. And now how much loan you are looking for sir? So you tell me how much we can get. So let me give you the value of the properties. Okay. So one value is one second. Don't close one second. Yes. Hi. How are you? One second. Just give me 35%. This one is where you can, this is only one, two clean only. And I think that's easy, easy as a simple, the main unit. You are big sir? Yeah, but not too much. That's right. Okay, yes brother. We can continue now. Yes. Hello. Yes sir. Yes sir. Yes. So we were saying, you were telling me the total value. Okay. So what I'm saying sir, I will take down all the details. Okay. Let the market advisor will give you a call and he can give you the exact figure how much you can get it. No problem. So you let me know what you need to know. Okay. And this will be your fourth property right? Or fifth property? So listen, I have one, this is with loan. Now that I have three loan as well. This way I need to get the loan. One more or no as well. So if you can give me to four, I will buy four. If you can give me to five, I will buy five. Depends on how much you can give me. Okay. Okay. I can give you the value of each property I couldn't have if you want. Okay. So what I will do, I will just tell the market advisor to give you a call now. Okay. Okay. Okay. They can give you the extra anymore. Okay sir. Thank you so much. I will be in a time. Thank you. Thank you. Bye bye.\n",
      "Text : conversation between Customer Federico and relationship manager Juraro in en language: Hello. Hello. Yes. Hello, good afternoon. Am I speaking to Federico? Who's speaking, sorry. I am Juraro calling you from Pripco Services. How are you doing today? Yes, I'm good. Thanks. I am good. Thank you so much for asking. I have received an inquiry from FLX property that you are looking to buy for the property and you want more cash on that. Is that correct? Yes, that's correct. Yeah. But you have been here in Dubai for two months. Yes. Okay, I need some more details from your side so that I can take your case forward. Is that okay if I start with the questioner? How much time does it take? No, not much time. It's very basic. You already don't have any documents with me. No, no, no, no. Not yet. May I know your salary, right? No, it's not. Thank you. Hello. $27,000. $37,000, right? $27,000. Sorry? $27,000. $27,000. Okay, alright. May I know how old are you? $40,000. Sorry? $40,000. $40,000. Okay, alright. So you've been working with the same company for two months only, right? Yes. So there is no liability, like no credit cards, no loans, nothing yet, right? No, no. No, yes. Okay, may I know your nationality? Italian. Italian. Okay, alright. So the property which you're planning to buy is ready to move in, right? Yes, right. Yeah, okay. And the price range you're looking for is? The millions. $2 million. And this is going to be the first property of yours in Dubai, right? Yes, right. Okay, alright. That's pretty much it. Mortgage advisor will give you a call and ask for the document, and then they will take the case forward. Okay, I will tell you one thing. Once the pre-approval is with you, it will last for 45 days. I mean, the validity will last with you for the 45 days. Within that period of time, you have to finalize the property and avail the mortgage, okay? No, no, I can't understand. What are you doing with my dog? I'm saying, say for example, we will apply for your pre-approval, okay? Once, the moment you will send us the document to my mortgage advisor, who will give you the document. Yes, yes, okay, perfect. Yeah, yes, okay. I have to decide for the property before. Yeah, that is completely your choice. Okay, of course I'll take your order. Okay, alright, thanks. Have a lovely day. Bye.\n",
      "Text : conversation between Customer Behrouz and relationship manager Juraira in en language: Hello. Hello. Yes. Good afternoon. Can I talk to Behrouz? Yes. I am Juraira calling you from Pripco services. How are you doing today? All good. Thank you so much. Miss, I have received an inquiry from Skyweaver real estate from yesh that you were interested in taking studio in Aikonsti and you won't mortgage on that. Is that correct? That's actually right. Okay ma'am. I need to know few more details from your site so that I can take your case forward and my mortgage advisor can give you a call and proceed for your pre-approver. Yes, please. Okay. Are you a resident or non-resident? Non-resident. Non-resident. Okay. May I know ma'am your age? 43. 43. Okay. Are you salary there or self-employed? Yeah. Salary. Salary. Salary. May I know how much is a salary? One lakh 80,000 Indian rupees. Which is around 8,000 AED. Ma'am, do you have any extra income? I mean additional income. No. I do have an income which is very variable every month. So it's like 20,000 to 40,000. I will put it nevertheless. Even one time you can make a difference. Yeah, but then it won't make much of a difference because it's very variable every month. Okay. All right. And it's in a different bank account in my case. And ma'am can I ask you one thing? Are you maintaining 25,000 dirhams every month which is not about 6 lakh or 6.5 lakhs every month should be undetected in your account? No. Some months it will be variable. It will be very variable because I have made transfers to other accounts. If we talk about last, if we talk about say for example last six months, are you able to maintain 6 lakhs? Every month won't be that way. It's variable? It is variable, yes. Because I have made payments to something and then the money has been refunded again back to me. So at the end of the month maybe that balance may not show. What will be the average balance if we say for last three months? Around 3-4 lakhs like every month. I mean like I can send you my statement if you want to. 3-4 lakhs is your average which you are maintaining? Every month it is 3-4 lakhs because some months has been 39 lakhs and all that also. Like November was I think 39-40 lakhs or something. Right. In January? And then I have taken fixed deposits in the month of January. So obviously the balance came down because I took fixed deposits worth around 35 lakhs or something like that. From my bank account I purchased 6 deposits which is in the bank only. If you want I can send you a statement of that too. That on that day you will be able to carry that the fixed deposit and the amount which has been transferred is to the fixed deposit. Okay. That way. Okay I will put it in additional details. Okay. Yeah. How long you been working with this company? I have been working for four years. You have been working for four years. Okay. It is a private clinic I am working. I am not working for a company which has salary certificates and all that. So I have to make a salary certificate also whatever is needed because we do not get any salary certificate or anything. It is a private clinic. So on the letterhead of the doctor I have to make a salary certificate that I am working here since this date till this date. Then you can pick more like if we say minimum is required here is 10,000. Okay. Yeah. Let's just see if the mortgage advisor can advise you the best. So you are working there in three years. But my boss will not write more salary certificates. Okay. All right. May I know your liabilities? I do not have any liabilities. No liabilities. No credit card, no personal loan, no home loan. I have full credit card but I do not use my credit card or whatever. But what is the limit you have taken on that? I have some I see in the form of a credit card. The limit you have taken on that? I have some I think 90,000 or something which is the credit card. 90K INR. Okay. That is only one. I just have one credit card. Okay. And you hold Indian card? I also think that yeah I hold an Indian card. But I think there is an increase in my limit to 6 lakhs, 20,000 or something. So not wrong. 6 lakhs? Yeah. Okay. I have been maintaining a very good balance. So I mean but I have not used a credit card. I do not use my credit card. So 6 lakh INR your limit yeah? I think that is what the bank has made it. I do not use my credit card so it does not matter to me. Yeah, yeah, yeah. I am just putting it just for their information. So the property which you are planning to buy over here in UAE is it going to be ready to move in or off plan? It is I think I can sit here. Yeah, yeah, yeah. And what is the range of that studio which you are buying? The studio is 8 lakhs. So it is like a second-tier marketing I am buying. Okay. 800K. Okay. This is going to be the first property in UAE right? Yes, that is right. And when are you planning to buy it? I am planning to buy it right away. Okay. Immediately. Okay. All right. Ma'am, I just have to check the eligibility because of your maintaining balance which is the last 6 months. If you say you are saying average I have to take 3 to 4 lakhs. I will check with my mortgage advisor and if they say yes we can do it. You will get a call from mortgage advisor immediately to ask for your document. You are a bank statement? No, not me. You will share it to them only. They will check. Okay. Because like it is variable. It is like you know as I said, the summer at 40 lakhs, December at 6 lakhs. I put it as an additional detail but you have high transactions and they will take this case forward. Yeah. Okay. Okay. All right. Thank you for your information. Have a wonderful day. No problem. Thank you.\n",
      "Text : conversation between Customer Ms. Emmy and relationship manager Jurara in en language: Hello. Hello. Hi. Hi. Good afternoon. Am I speaking to Ms. Emmy? Yes, you are. Okay. Ms. Emmy, I am Jurara calling you from Pripco Services. How are you doing today? I'm good. How are you? I am good. Thank you so much for asking. I have received an inquiry from Banker Real Estate that you are interested in taking mortgage for the property. You are looking for one bedroom apartment, right? Yes. Yeah. And you want to check the eligibility? Yes. Okay. I quickly have to ask you a few questions so that I can tell you and take your case forward. Yeah? Yeah. Okay. You are a resident of Dubai, right? Correct. Perfect. May I know how old are you? I am 27. 27. Are you a salary or a self-employed? Salary. How much is a salary? 13,000. 13,000. Is there any other question? Yes. Is there any other additional income you have? No. This is the dot which comes to your account every month, right? No commissions, nothing, right? No. Okay. All right. How long have you been working with this company? It will be a year in June. Almost a year. Okay. Any liabilities you have taken like car loan, loan, credit card? Nothing. No. No, no credit cards. That's good then. What's your personality? I mean, which passport you hold? Indian. Okay. All right. So the property which you're planning to buy, the Banbedroom apartment, it's ready to move in, right? If I'm not mistaken, yeah. Yeah. Okay. There's a couple of places that I'm looking at. Because you know, I'll tell you one thing, I'll suggest you one thing, go for ready to move in because it's easy to get mortgage on the ready to move in unit rather than off the mortgage. I have a question about that. So if it's ready to move in and it's easier to get a mortgage on that, but wouldn't that mean I'd pay more money for the mortgage in terms of interest rates and things like that? No, it's not that. See, how does it work is off plan, if the project is off plan, you have to wait for the 50% construction and the 50% almost payment has to be done from the client by then. Okay. So the client can put it on mortgage whereas in while the unit is ready, you have to only put down payment which is only 20% for the total value and rest up to 80% is given by the bank. And rate is not directly proportional to anything ready to move in and off plan. Rate is from the bank, pencil bank. Right now it's going down and we will ensure that we will get you the best rate and you have a choice to choose which bank you want to go with. Okay. Okay. And how much is the services from your end? It's free of charge. Oh, okay. Yes. Yes. Me and you know the price range which you're looking at. What's the price range for the property? It's between 900,000 and 1.5 million. Okay. I don't know if that's too much. Yeah, it's fine. We can try. And this is going to be the first property of yours and you. Okay. Yeah. That's pretty much it. Miss Amy, what we will do is we will give you a call from my mortgage advisors. They will take your case forward and ask you for the documents and then you will get a pre-approval as soon as possible. Okay. Thank you so much. I really appreciate it. Thank you so much. You have a good day. Lovely evening. Bye-bye. All right. Bye.\n"
     ]
    }
   ],
   "source": [
    "with open(\"../data/Processed_data/Audio_data.json\") as json_file:\n",
    "    data = json.load(json_file)\n",
    "\n",
    "## Print a Audio conversation \n",
    "for i,content in enumerate(data['data']):\n",
    "    print(\"Text :\",content['text'])\n",
    "    if i>2:\n",
    "        break"
   ]
  },
  {
   "cell_type": "code",
   "execution_count": 9,
   "metadata": {},
   "outputs": [
    {
     "data": {
      "text/html": [
       "<div>\n",
       "<style scoped>\n",
       "    .dataframe tbody tr th:only-of-type {\n",
       "        vertical-align: middle;\n",
       "    }\n",
       "\n",
       "    .dataframe tbody tr th {\n",
       "        vertical-align: top;\n",
       "    }\n",
       "\n",
       "    .dataframe thead th {\n",
       "        text-align: right;\n",
       "    }\n",
       "</style>\n",
       "<table border=\"1\" class=\"dataframe\">\n",
       "  <thead>\n",
       "    <tr style=\"text-align: right;\">\n",
       "      <th></th>\n",
       "      <th>audio_url</th>\n",
       "      <th>text</th>\n",
       "      <th>customer</th>\n",
       "      <th>relationship_manager</th>\n",
       "      <th>language</th>\n",
       "      <th>call duration</th>\n",
       "    </tr>\n",
       "  </thead>\n",
       "  <tbody>\n",
       "    <tr>\n",
       "      <th>0</th>\n",
       "      <td>3d5c6413-397f-41c9-8044-effc34cdc4a2.mp3</td>\n",
       "      <td>conversation between Customer and relationship...</td>\n",
       "      <td>Harvinder Yesar</td>\n",
       "      <td></td>\n",
       "      <td>en</td>\n",
       "      <td>471.384</td>\n",
       "    </tr>\n",
       "    <tr>\n",
       "      <th>1</th>\n",
       "      <td>3dd36ed7-a347-4a55-884e-5c26a305daab.mp3</td>\n",
       "      <td>conversation between Customer Federico and rel...</td>\n",
       "      <td>Federico</td>\n",
       "      <td>Juraro</td>\n",
       "      <td>en</td>\n",
       "      <td>186.480</td>\n",
       "    </tr>\n",
       "    <tr>\n",
       "      <th>2</th>\n",
       "      <td>40b7e8cd-192b-4b74-bc10-ce5d2f84e993.mp3</td>\n",
       "      <td>conversation between Customer Behrouz and rela...</td>\n",
       "      <td>Behrouz</td>\n",
       "      <td>Juraira</td>\n",
       "      <td>en</td>\n",
       "      <td>389.520</td>\n",
       "    </tr>\n",
       "    <tr>\n",
       "      <th>3</th>\n",
       "      <td>412cf035-fbcc-4d88-baab-8cdaed16bcdc.mp3</td>\n",
       "      <td>conversation between Customer Ms. Emmy and rel...</td>\n",
       "      <td>Ms. Emmy</td>\n",
       "      <td>Jurara</td>\n",
       "      <td>en</td>\n",
       "      <td>218.664</td>\n",
       "    </tr>\n",
       "    <tr>\n",
       "      <th>4</th>\n",
       "      <td>41b0cbd5-882f-4c62-85bc-944c2e3e7beb.mp3</td>\n",
       "      <td>conversation between Customer Ms. Vora and rel...</td>\n",
       "      <td>Ms. Laura</td>\n",
       "      <td>Naila</td>\n",
       "      <td>en</td>\n",
       "      <td>266.328</td>\n",
       "    </tr>\n",
       "  </tbody>\n",
       "</table>\n",
       "</div>"
      ],
      "text/plain": [
       "                                  audio_url   \n",
       "0  3d5c6413-397f-41c9-8044-effc34cdc4a2.mp3  \\\n",
       "1  3dd36ed7-a347-4a55-884e-5c26a305daab.mp3   \n",
       "2  40b7e8cd-192b-4b74-bc10-ce5d2f84e993.mp3   \n",
       "3  412cf035-fbcc-4d88-baab-8cdaed16bcdc.mp3   \n",
       "4  41b0cbd5-882f-4c62-85bc-944c2e3e7beb.mp3   \n",
       "\n",
       "                                                text         customer   \n",
       "0  conversation between Customer and relationship...  Harvinder Yesar  \\\n",
       "1  conversation between Customer Federico and rel...         Federico   \n",
       "2  conversation between Customer Behrouz and rela...          Behrouz   \n",
       "3  conversation between Customer Ms. Emmy and rel...         Ms. Emmy   \n",
       "4  conversation between Customer Ms. Vora and rel...        Ms. Laura   \n",
       "\n",
       "  relationship_manager language  call duration  \n",
       "0                            en        471.384  \n",
       "1               Juraro       en        186.480  \n",
       "2              Juraira       en        389.520  \n",
       "3               Jurara       en        218.664  \n",
       "4                Naila       en        266.328  "
      ]
     },
     "execution_count": 9,
     "metadata": {},
     "output_type": "execute_result"
    }
   ],
   "source": [
    "pd.DataFrame(data['data']).head()"
   ]
  },
  {
   "attachments": {},
   "cell_type": "markdown",
   "metadata": {},
   "source": [
    "## Load the Falcon Model and Tokenizer "
   ]
  },
  {
   "cell_type": "code",
   "execution_count": null,
   "metadata": {},
   "outputs": [],
   "source": [
    "Model_Name = 'tiiuae/falcon-7b'\n",
    "\n",
    "quant_config = BitsAndBytesConfig(\n",
    "    load_in_4bit=True,\n",
    "    bnb_4bit_use_double_quant=True,\n",
    "    bnb_4bit_quant_type=\"nf4\",\n",
    "    bnb_4bit_compute_dtype=torch.bfloat16\n",
    ")\n",
    "model = AutoModelForCausalLM.from_pretrained(Model_Name, \n",
    "                                             quantization_config=quant_config, \n",
    "                                             device_map=\"auto\",\n",
    "                                             trust_remote_code=True,\n",
    "                                             )\n",
    "tokenizer = AutoTokenizer.from_pretrained(Model_Name)\n",
    "tokenizer.pad_token  = tokenizer.eos_token  ## Setting Padding token to end of the sequence"
   ]
  },
  {
   "cell_type": "code",
   "execution_count": 24,
   "metadata": {},
   "outputs": [],
   "source": [
    "def print_trainable_params(model):\n",
    "    trainable_params = 0\n",
    "    all_params  =0 \n",
    "    for _,param in model.named_parameters():\n",
    "        all_param += param.numel()\n",
    "        if param.required_grad:\n",
    "            trainable_params+=param.model()\n",
    "    print(\"Trainable Parameters {} || All params : {} Trainable {}\"\n",
    "          .format(trainable_params,all_params,100*(trainable_params/all_params)))\n",
    "\n",
    "print_trainable_params(model)\n",
    "\n",
    "model.gradient_checkpointing_enable()\n"
   ]
  },
  {
   "cell_type": "code",
   "execution_count": null,
   "metadata": {},
   "outputs": [],
   "source": [
    "\n",
    "from peft import prepare_model_for_kbit_training, LoraConfig, get_peft_model\n",
    "\n",
    "model = prepare_model_for_kbit_training(model)\n",
    "\n",
    "config = LoraConfig(\n",
    "    r=8, \n",
    "    lora_alpha=32, \n",
    "    target_modules=[\"query_key_value\"], \n",
    "    lora_dropout=0.05, \n",
    "    bias=\"none\", \n",
    "    task_type=\"CAUSAL_LM\"\n",
    ")\n",
    "\n",
    "model = get_peft_model(model, config)"
   ]
  }
 ],
 "metadata": {
  "kernelspec": {
   "display_name": "pylangchain",
   "language": "python",
   "name": "python3"
  },
  "language_info": {
   "codemirror_mode": {
    "name": "ipython",
    "version": 3
   },
   "file_extension": ".py",
   "mimetype": "text/x-python",
   "name": "python",
   "nbconvert_exporter": "python",
   "pygments_lexer": "ipython3",
   "version": "3.10.11"
  },
  "orig_nbformat": 4
 },
 "nbformat": 4,
 "nbformat_minor": 2
}
