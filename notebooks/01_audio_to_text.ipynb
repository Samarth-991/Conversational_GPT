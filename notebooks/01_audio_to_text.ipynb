{
 "cells": [
  {
   "attachments": {},
   "cell_type": "markdown",
   "metadata": {},
   "source": [
    "### Use Wisper model to Analyze the Audio wav files and convert them into Text\n",
    "\n",
    "Whisper is a general-purpose speech recognition model. It is trained on a large dataset of diverse audio and is also a multitasking model that can perform multilingual speech recognition, speech translation, and language identification."
   ]
  },
  {
   "attachments": {},
   "cell_type": "markdown",
   "metadata": {},
   "source": [
    "#### Conversational Loader "
   ]
  },
  {
   "cell_type": "code",
   "execution_count": 1,
   "metadata": {},
   "outputs": [
    {
     "name": "stdout",
     "output_type": "stream",
     "text": [
      "Defaul sample rate selected : 16000\n"
     ]
    },
    {
     "name": "stderr",
     "output_type": "stream",
     "text": [
      "/home/samartht/anaconda3/envs/pylangchain/lib/python3.10/site-packages/whisper/timing.py:58: NumbaDeprecationWarning: The 'nopython' keyword argument was not supplied to the 'numba.jit' decorator. The implicit default value for this argument is currently False, but it will be changed to True in Numba 0.59.0. See https://numba.readthedocs.io/en/stable/reference/deprecation.html#deprecation-of-object-mode-fall-back-behaviour-when-using-jit for details.\n",
      "  def backtrace(trace: np.ndarray):\n"
     ]
    }
   ],
   "source": [
    "import os\n",
    "import time\n",
    "## load Wisper API \n",
    "import json\n",
    "import pandas as pd \n",
    "import whisper\n",
    "from whisper.audio import SAMPLE_RATE\n",
    "import torch \n",
    "from collections import OrderedDict\n",
    "audio_path = '../data/Audio/'\n",
    "print(\"Defaul sample rate selected :\",SAMPLE_RATE)"
   ]
  },
  {
   "cell_type": "code",
   "execution_count": 2,
   "metadata": {},
   "outputs": [
    {
     "data": {
      "text/html": [
       "<div>\n",
       "<style scoped>\n",
       "    .dataframe tbody tr th:only-of-type {\n",
       "        vertical-align: middle;\n",
       "    }\n",
       "\n",
       "    .dataframe tbody tr th {\n",
       "        vertical-align: top;\n",
       "    }\n",
       "\n",
       "    .dataframe thead th {\n",
       "        text-align: right;\n",
       "    }\n",
       "</style>\n",
       "<table border=\"1\" class=\"dataframe\">\n",
       "  <thead>\n",
       "    <tr style=\"text-align: right;\">\n",
       "      <th></th>\n",
       "      <th>Date</th>\n",
       "      <th>Company / Account</th>\n",
       "      <th>Opportunity</th>\n",
       "      <th>Unnamed: 3</th>\n",
       "      <th>Lead</th>\n",
       "      <th>Assigned</th>\n",
       "      <th>Priority</th>\n",
       "      <th>Status</th>\n",
       "      <th>Task</th>\n",
       "      <th>Ameyo Recording URL</th>\n",
       "      <th>Call Type</th>\n",
       "      <th>CallDurationInSeconds</th>\n",
       "    </tr>\n",
       "  </thead>\n",
       "  <tbody>\n",
       "    <tr>\n",
       "      <th>1</th>\n",
       "      <td>4/4/2023</td>\n",
       "      <td>Mohammed Jaffer</td>\n",
       "      <td>Mohammed Jaffer</td>\n",
       "      <td>Mohammed Jaffer</td>\n",
       "      <td>NaN</td>\n",
       "      <td>Yaseen Syed Ali</td>\n",
       "      <td>Low</td>\n",
       "      <td>Completed</td>\n",
       "      <td>True</td>\n",
       "      <td>https://prypto-api.aswat.co/surveillance/recor...</td>\n",
       "      <td>Outbound</td>\n",
       "      <td>422</td>\n",
       "    </tr>\n",
       "    <tr>\n",
       "      <th>2</th>\n",
       "      <td>4/4/2023</td>\n",
       "      <td>G Abbas</td>\n",
       "      <td>G Abbas</td>\n",
       "      <td>G Abbas</td>\n",
       "      <td>NaN</td>\n",
       "      <td>Yaseen Syed Ali</td>\n",
       "      <td>Low</td>\n",
       "      <td>Completed</td>\n",
       "      <td>True</td>\n",
       "      <td>https://prypto-api.aswat.co/surveillance/recor...</td>\n",
       "      <td>Outbound</td>\n",
       "      <td>237</td>\n",
       "    </tr>\n",
       "    <tr>\n",
       "      <th>6</th>\n",
       "      <td>4/4/2023</td>\n",
       "      <td>Ahsan Khan</td>\n",
       "      <td>Ahsan Khan</td>\n",
       "      <td>Ahsan Khan</td>\n",
       "      <td>NaN</td>\n",
       "      <td>Yaseen Syed Ali</td>\n",
       "      <td>Low</td>\n",
       "      <td>Completed</td>\n",
       "      <td>True</td>\n",
       "      <td>https://prypto-api.aswat.co/surveillance/recor...</td>\n",
       "      <td>Outbound</td>\n",
       "      <td>74</td>\n",
       "    </tr>\n",
       "    <tr>\n",
       "      <th>11</th>\n",
       "      <td>4/5/2023</td>\n",
       "      <td>Fayiqa Iftikhar</td>\n",
       "      <td>Fayiqa Iftikhar</td>\n",
       "      <td>Fayiqa Iftikhar</td>\n",
       "      <td>NaN</td>\n",
       "      <td>Yaseen Syed Ali</td>\n",
       "      <td>Low</td>\n",
       "      <td>Completed</td>\n",
       "      <td>True</td>\n",
       "      <td>https://prypto-api.aswat.co/surveillance/recor...</td>\n",
       "      <td>Outbound</td>\n",
       "      <td>481</td>\n",
       "    </tr>\n",
       "    <tr>\n",
       "      <th>13</th>\n",
       "      <td>4/5/2023</td>\n",
       "      <td>Smith Suresh Shetty</td>\n",
       "      <td>Smith Suresh Shetty</td>\n",
       "      <td>Smith Suresh Shetty</td>\n",
       "      <td>NaN</td>\n",
       "      <td>Yaseen Syed Ali</td>\n",
       "      <td>Low</td>\n",
       "      <td>Completed</td>\n",
       "      <td>True</td>\n",
       "      <td>https://prypto-api.aswat.co/surveillance/recor...</td>\n",
       "      <td>Outbound</td>\n",
       "      <td>269</td>\n",
       "    </tr>\n",
       "  </tbody>\n",
       "</table>\n",
       "</div>"
      ],
      "text/plain": [
       "        Date    Company / Account          Opportunity           Unnamed: 3   \n",
       "1   4/4/2023      Mohammed Jaffer      Mohammed Jaffer      Mohammed Jaffer  \\\n",
       "2   4/4/2023              G Abbas              G Abbas              G Abbas   \n",
       "6   4/4/2023           Ahsan Khan           Ahsan Khan           Ahsan Khan   \n",
       "11  4/5/2023      Fayiqa Iftikhar      Fayiqa Iftikhar      Fayiqa Iftikhar   \n",
       "13  4/5/2023  Smith Suresh Shetty  Smith Suresh Shetty  Smith Suresh Shetty   \n",
       "\n",
       "   Lead         Assigned Priority     Status  Task   \n",
       "1   NaN  Yaseen Syed Ali      Low  Completed  True  \\\n",
       "2   NaN  Yaseen Syed Ali      Low  Completed  True   \n",
       "6   NaN  Yaseen Syed Ali      Low  Completed  True   \n",
       "11  NaN  Yaseen Syed Ali      Low  Completed  True   \n",
       "13  NaN  Yaseen Syed Ali      Low  Completed  True   \n",
       "\n",
       "                                  Ameyo Recording URL Call Type   \n",
       "1   https://prypto-api.aswat.co/surveillance/recor...  Outbound  \\\n",
       "2   https://prypto-api.aswat.co/surveillance/recor...  Outbound   \n",
       "6   https://prypto-api.aswat.co/surveillance/recor...  Outbound   \n",
       "11  https://prypto-api.aswat.co/surveillance/recor...  Outbound   \n",
       "13  https://prypto-api.aswat.co/surveillance/recor...  Outbound   \n",
       "\n",
       "    CallDurationInSeconds  \n",
       "1                     422  \n",
       "2                     237  \n",
       "6                      74  \n",
       "11                    481  \n",
       "13                    269  "
      ]
     },
     "execution_count": 2,
     "metadata": {},
     "output_type": "execute_result"
    }
   ],
   "source": [
    "excel_path = \"/mnt/e/Personal/Samarth/repository/NLP-Basic2Advanced/DMAC_project/data/Data_Mortgage.xlsx\"\n",
    "excel_data = pd.read_excel(excel_path)\n",
    "excel_data.dropna(subset='Opportunity',inplace=True)\n",
    "excel_data.head()"
   ]
  },
  {
   "cell_type": "code",
   "execution_count": 4,
   "metadata": {},
   "outputs": [
    {
     "name": "stdout",
     "output_type": "stream",
     "text": [
      "['https://prypto-api.aswat.co/surveillance/recordings/09e85b8d-4acf-4b67-b846-cc5199775df4.mp3', 'https://prypto-api.aswat.co/surveillance/recordings/e6e2bd30-ca04-4f78-9265-afe32e23e2fc.mp3', 'https://prypto-api.aswat.co/surveillance/recordings/3ebff02b-b650-451d-bfb6-ed7c3a6533ea.mp3', 'https://prypto-api.aswat.co/surveillance/recordings/38b72137-5428-45ae-adce-624900b20bea.mp3', 'https://prypto-api.aswat.co/surveillance/recordings/4f39f94d-7dff-440f-a1b0-2a6c75fdc737.mp3', 'https://prypto-api.aswat.co/surveillance/recordings/210bdc1c-da2b-4cc8-8c71-13a659f1b1ff.mp3', 'https://prypto-api.aswat.co/surveillance/recordings/23566839-ddc9-443d-b4e5-7ade236b9146.mp3', 'https://prypto-api.aswat.co/surveillance/recordings/03dac286-7d7e-414c-93d2-6da513d5546f.mp3', 'https://prypto-api.aswat.co/surveillance/recordings/b82d62eb-eaf7-4ce9-9fc2-76df0e217a39.mp3', 'https://prypto-api.aswat.co/surveillance/recordings/a6dde464-20c0-4f7b-8c04-b88b9258e9cd.mp3', 'https://prypto-api.aswat.co/surveillance/recordings/c5010a70-15c8-4a0a-be34-8a1385d37964.mp3', 'https://prypto-api.aswat.co/surveillance/recordings/c0508b2d-a655-42f0-88a6-ef0c7273d464.mp3', 'https://prypto-api.aswat.co/surveillance/recordings/54f9ba71-8191-428a-b6bb-4c55ced64099.mp3', 'https://prypto-api.aswat.co/surveillance/recordings/461034f1-e12c-4d88-8757-2ff48601cc5c.mp3', 'https://prypto-api.aswat.co/surveillance/recordings/342027d0-7f45-4377-849e-9ede2266563c.mp3', 'https://prypto-api.aswat.co/surveillance/recordings/dc04086e-b610-4a49-8d98-c8c9b57a696e.mp3', 'https://prypto-api.aswat.co/surveillance/recordings/333106a2-956b-479c-b81c-1e5a0d831115.mp3', 'https://prypto-api.aswat.co/surveillance/recordings/54669305-d0fa-4de5-b422-4712fa54953d.mp3', 'https://prypto-api.aswat.co/surveillance/recordings/acfc7dda-cfb3-4675-8e7c-a7e8b4bbf947.mp3', 'https://prypto-api.aswat.co/surveillance/recordings/f7c5359a-0bf8-4afd-8686-a29937bbb302.mp3', 'https://prypto-api.aswat.co/surveillance/recordings/651b8168-1166-4e4a-a2c5-c3503bdb0256.mp3', 'https://prypto-api.aswat.co/surveillance/recordings/2a7f67c3-a974-44c6-9dd8-e88b2aa4b286.mp3', 'https://prypto-api.aswat.co/surveillance/recordings/500f368b-1b9e-4779-90c1-5a8ade6320e6.mp3', 'https://prypto-api.aswat.co/surveillance/recordings/d9cfcaf5-b2f5-4d7a-beb5-382fccc5b991.mp3', 'https://prypto-api.aswat.co/surveillance/recordings/bae34e24-0dfa-46dc-b7db-2de03d5e8e0f.mp3', 'https://prypto-api.aswat.co/surveillance/recordings/e7439b77-34c6-4a19-b2ef-4b2aac5c8d13.mp3', 'https://prypto-api.aswat.co/surveillance/recordings/bf398521-4d9d-4f64-893d-30ed813a8d50.mp3', 'https://prypto-api.aswat.co/surveillance/recordings/a19e3f7d-9e50-4b66-95ba-65410f4815ba.mp3', 'https://prypto-api.aswat.co/surveillance/recordings/aa19f795-b622-48d4-983f-edb43f6bf533.mp3', 'https://prypto-api.aswat.co/surveillance/recordings/3a94d143-dbbc-4744-97af-e9b15152384f.mp3', 'https://prypto-api.aswat.co/surveillance/recordings/347a35bf-d6f4-4a4b-82a5-82411b96ae56.mp3', 'https://prypto-api.aswat.co/surveillance/recordings/d3df7560-2117-4aef-a8c0-24546d6250de.mp3', 'https://prypto-api.aswat.co/surveillance/recordings/0e4b64c5-1b03-43d2-b44b-fe7be2ab8ae6.mp3', 'https://prypto-api.aswat.co/surveillance/recordings/97c0d509-54a4-475c-bc62-09ff65cf1f1c.mp3', 'https://prypto-api.aswat.co/surveillance/recordings/2a9e890e-c5bd-43ca-b32f-d779bb7ad01b.mp3', 'https://prypto-api.aswat.co/surveillance/recordings/5a9515ba-74f4-40d8-ab7e-821c293efaef.mp3', 'https://prypto-api.aswat.co/surveillance/recordings/557f74bc-f0fa-4d6d-a64c-ca1dc6e04513.mp3', 'https://prypto-api.aswat.co/surveillance/recordings/4d6342f3-7307-49cc-ae65-9219463aaee0.mp3', 'https://prypto-api.aswat.co/surveillance/recordings/2b2dbf25-5f82-4b42-b3d6-a7ecb4e1afd3.mp3', 'https://prypto-api.aswat.co/surveillance/recordings/adfbf51f-6969-4441-b175-83625dbd0f75.mp3', 'https://prypto-api.aswat.co/surveillance/recordings/5a0c6618-755c-4f2a-ac95-e2114fd303a4.mp3', 'https://prypto-api.aswat.co/surveillance/recordings/7a730b34-7ba5-48cb-8e46-699a7dfef4b7.mp3', 'https://prypto-api.aswat.co/surveillance/recordings/0feb69a5-61f6-447f-9197-38562c396021.mp3', 'https://prypto-api.aswat.co/surveillance/recordings/941c44f1-2e00-4014-9d80-b1eeda3df137.mp3', 'https://prypto-api.aswat.co/surveillance/recordings/34ed2c7a-1864-482e-8a3b-57f13ff2e956.mp3', 'https://prypto-api.aswat.co/surveillance/recordings/2bf2a996-9078-489e-82ce-c92b166c2dc7.mp3', 'https://prypto-api.aswat.co/surveillance/recordings/b14a8dc4-babc-4ea0-9014-4d218588ef24.mp3', 'https://prypto-api.aswat.co/surveillance/recordings/8e42203c-6140-45d3-9b61-7203eb46b329.mp3', 'https://prypto-api.aswat.co/surveillance/recordings/da781136-ec23-4450-8cd8-261effcbb460.mp3', 'https://prypto-api.aswat.co/surveillance/recordings/2bff9bd3-6b81-4d62-9fc8-d7c3e508e04e.mp3', 'https://prypto-api.aswat.co/surveillance/recordings/d5000fc3-a815-4e66-9611-c6036790cdc4.mp3', 'https://prypto-api.aswat.co/surveillance/recordings/8f6e0e2b-94f9-4db2-9a84-56771df252fa.mp3', 'https://prypto-api.aswat.co/surveillance/recordings/2cb4cc6c-e316-4ab3-802b-c1f35f195665.mp3', 'https://prypto-api.aswat.co/surveillance/recordings/2ffeabf8-c6b0-447d-8423-21e898c3ed40.mp3', 'https://prypto-api.aswat.co/surveillance/recordings/55bab095-97a3-4067-8e16-8a0ccc2fa043.mp3', 'https://prypto-api.aswat.co/surveillance/recordings/52d89f9e-00e5-4adc-b497-165c9281d00d.mp3', 'https://prypto-api.aswat.co/surveillance/recordings/59679c18-aa8c-41e4-a213-b04cb34ab9b9.mp3', 'https://prypto-api.aswat.co/surveillance/recordings/ae6d9cc6-597c-4821-b459-36f962ed97ce.mp3', 'https://prypto-api.aswat.co/surveillance/recordings/8b72c53b-b5e6-4082-8d53-9251fdca4b2a.mp3', 'https://prypto-api.aswat.co/surveillance/recordings/09e5d494-a7de-45ae-9455-2463efd0f2e1.mp3', 'https://prypto-api.aswat.co/surveillance/recordings/f2be6fe1-45ec-49f5-b0df-385b9bbc0e4f.mp3', 'https://prypto-api.aswat.co/surveillance/recordings/cb5fc956-4d18-4d21-9ea7-ed2d9f79f928.mp3', 'https://prypto-api.aswat.co/surveillance/recordings/3280c5f7-3a74-4577-8b0f-5378514853e0.mp3', 'https://prypto-api.aswat.co/surveillance/recordings/41b0cbd5-882f-4c62-85bc-944c2e3e7beb.mp3', 'https://prypto-api.aswat.co/surveillance/recordings/150c809d-276c-4858-9004-87d52d01063f.mp3', 'https://prypto-api.aswat.co/surveillance/recordings/c21c784d-e6e2-4c7f-9856-368aa25161da.mp3', 'https://prypto-api.aswat.co/surveillance/recordings/8350ebbd-f7e7-430d-ac8a-8fe79b142690.mp3', 'https://prypto-api.aswat.co/surveillance/recordings/698e3db8-3a75-4a69-b0da-773d8052ce3c.mp3', 'https://prypto-api.aswat.co/surveillance/recordings/48f69d79-e899-4c41-80f1-b785ea2e9774.mp3', 'https://prypto-api.aswat.co/surveillance/recordings/60de1b2c-a0ab-4671-9158-cf4c14185246.mp3', 'https://prypto-api.aswat.co/surveillance/recordings/98d94b86-8683-45ba-ab50-77d8037dbc43.mp3', 'https://prypto-api.aswat.co/surveillance/recordings/372cceb0-a235-47e6-849d-8aa8ecca01ea.mp3', 'https://prypto-api.aswat.co/surveillance/recordings/cc4cbe23-d189-40e5-b371-b8cae3a4af99.mp3', 'https://prypto-api.aswat.co/surveillance/recordings/43b764b8-9c56-40f7-895a-e77a8f89d093.mp3', 'https://prypto-api.aswat.co/surveillance/recordings/313faefc-8707-460a-95c8-ef02d314e8ce.mp3', 'https://prypto-api.aswat.co/surveillance/recordings/871b2dc7-31ce-4cc0-a4cd-a00aebb4e601.mp3', 'https://prypto-api.aswat.co/surveillance/recordings/bae9b2c4-8cbc-4405-8725-1d3f0866c76b.mp3', 'https://prypto-api.aswat.co/surveillance/recordings/7398a6c4-812d-4150-a2c0-fedbd1c9ba91.mp3', 'https://prypto-api.aswat.co/surveillance/recordings/84790041-351b-4a69-bbb5-7d0d5547abe3.mp3', 'https://prypto-api.aswat.co/surveillance/recordings/39ca276f-8528-413a-aa51-1bf1c5b6dd89.mp3', 'https://prypto-api.aswat.co/surveillance/recordings/1ba9dbad-4d2f-400e-8b68-7fc1a337e24c.mp3', 'https://prypto-api.aswat.co/surveillance/recordings/fc059c87-b29a-4bbc-8554-cc9ec02089b7.mp3', 'https://prypto-api.aswat.co/surveillance/recordings/bdd70d5f-9604-4bc6-a3f6-6685acddc7fe.mp3', 'https://prypto-api.aswat.co/surveillance/recordings/db8eb054-ddd5-4078-bd2a-34079f1e61ea.mp3', 'https://prypto-api.aswat.co/surveillance/recordings/a8626b98-6928-4a00-b547-3acd5f5b3777.mp3', 'https://prypto-api.aswat.co/surveillance/recordings/444dc224-6f44-414d-bcb8-1194be7f2bdd.mp3', 'https://prypto-api.aswat.co/surveillance/recordings/0e337ec2-1f27-490d-b00e-9cfc8e34935f.mp3', 'https://prypto-api.aswat.co/surveillance/recordings/a3885b6d-4234-4d19-b8da-e8eb996970cc.mp3', 'https://prypto-api.aswat.co/surveillance/recordings/d17c439c-8453-4caa-b841-e572800cfc2d.mp3', 'https://prypto-api.aswat.co/surveillance/recordings/0a264f6c-9a2a-4df6-8f14-d9e2ffcf28f7.mp3', 'https://prypto-api.aswat.co/surveillance/recordings/8d6ee1fc-3e6e-4555-b80a-6b806ff5a23c.mp3', 'https://prypto-api.aswat.co/surveillance/recordings/689126da-0930-43fc-acb8-aa931de853b5.mp3', 'https://prypto-api.aswat.co/surveillance/recordings/91f7b568-b639-41d5-832a-d6cb69b695b9.mp3', 'https://prypto-api.aswat.co/surveillance/recordings/885ae6fc-8a75-47a1-b3cb-51613219bf70.mp3', 'https://prypto-api.aswat.co/surveillance/recordings/e3cddf3d-2ee9-41f3-8822-cb85dba3d063.mp3', 'https://prypto-api.aswat.co/surveillance/recordings/e2d5d39d-5fa6-468a-badf-ca2722676b3a.mp3', 'https://prypto-api.aswat.co/surveillance/recordings/696461e6-1e6f-46df-80be-1834fc15cc2c.mp3', 'https://prypto-api.aswat.co/surveillance/recordings/d9034e63-b4a3-403a-a8e8-4423a8f52215.mp3', 'https://prypto-api.aswat.co/surveillance/recordings/b2bbdbdf-4b73-4c0c-a97a-fc6968bd8143.mp3', 'https://prypto-api.aswat.co/surveillance/recordings/6a0468af-4b96-4852-8f0c-497815b9f220.mp3', 'https://prypto-api.aswat.co/surveillance/recordings/c17c28f1-51d7-424c-8d8f-57c9957b95ca.mp3', 'https://prypto-api.aswat.co/surveillance/recordings/fa692a5b-5cab-4c63-9e41-4d705ef92689.mp3', 'https://prypto-api.aswat.co/surveillance/recordings/7b51a844-be21-4633-8108-5f3b27bbd241.mp3', 'https://prypto-api.aswat.co/surveillance/recordings/5a779b32-c07e-46d1-9719-d2b2e5e350be.mp3', 'https://prypto-api.aswat.co/surveillance/recordings/0b305059-15ca-4d82-a9e1-bb3fab0c3d54.mp3', 'https://prypto-api.aswat.co/surveillance/recordings/d5e06656-d2d9-408c-8656-a1cf089145eb.mp3', 'https://prypto-api.aswat.co/surveillance/recordings/863c6040-f4c7-4bd1-8d4b-f18419a75313.mp3', 'https://prypto-api.aswat.co/surveillance/recordings/4c42643c-27ad-4697-95ed-b1d800cc1538.mp3', 'https://prypto-api.aswat.co/surveillance/recordings/1c71c316-7ac4-45ec-92be-dc32e6b51e85.mp3', 'https://prypto-api.aswat.co/surveillance/recordings/1ba88715-36de-433e-98dc-99a277bcf4c1.mp3', 'https://prypto-api.aswat.co/surveillance/recordings/0cc98eec-2c9e-4c51-8595-ea426042c9ef.mp3', 'https://prypto-api.aswat.co/surveillance/recordings/642f9143-d748-4466-93e4-3c198b4e79c3.mp3', 'https://prypto-api.aswat.co/surveillance/recordings/9f799f09-5fe7-44fc-ab97-1bafe6bae468.mp3', 'https://prypto-api.aswat.co/surveillance/recordings/63257f2d-4981-4eb8-b3cb-04e9be4119fb.mp3', 'https://prypto-api.aswat.co/surveillance/recordings/2fce782d-a0a6-433a-bcbd-6f28860f1949.mp3', 'https://prypto-api.aswat.co/surveillance/recordings/1c4a5fe3-baba-4f7b-8acd-b6a5c766121d.mp3', 'https://prypto-api.aswat.co/surveillance/recordings/47f8d69d-9277-4ebc-bd6e-a998d929869f.mp3', 'https://prypto-api.aswat.co/surveillance/recordings/cac3c226-4cb9-430d-802d-9f8834f21037.mp3', 'https://prypto-api.aswat.co/surveillance/recordings/802593e1-ca8b-4bce-97a7-38a9748c0a85.mp3', 'https://prypto-api.aswat.co/surveillance/recordings/b5ec6deb-ede3-4b85-a537-f74d3ab61cda.mp3', 'https://prypto-api.aswat.co/surveillance/recordings/1db965ad-758e-4a00-8efc-efcf71b4826d.mp3', 'https://prypto-api.aswat.co/surveillance/recordings/15fdec8f-7924-4f27-b104-633d732cc555.mp3', 'https://prypto-api.aswat.co/surveillance/recordings/768f4935-0b97-44cc-82e8-cf2f188fd85e.mp3', 'https://prypto-api.aswat.co/surveillance/recordings/45e7ea40-56ee-4e8b-bb7a-b326056b0abc.mp3', 'https://prypto-api.aswat.co/surveillance/recordings/b12b1b17-3975-4522-a8a2-5ce9694c7ccd.mp3', 'https://prypto-api.aswat.co/surveillance/recordings/1256f40c-afd9-4263-9fcf-2e558bb0c5b2.mp3', 'https://prypto-api.aswat.co/surveillance/recordings/b17f4275-eb92-4622-8c71-d93f04a831a9.mp3', 'https://prypto-api.aswat.co/surveillance/recordings/b32b30a3-45f2-4a1e-84a6-516d0e20faf5.mp3', 'https://prypto-api.aswat.co/surveillance/recordings/3c02427f-43cd-47bb-ae55-2f89cf5563b4.mp3', 'https://prypto-api.aswat.co/surveillance/recordings/5a3272f2-e1c9-4c8b-91ae-f6faa1514fb5.mp3', 'https://prypto-api.aswat.co/surveillance/recordings/062adf52-8c9e-42b3-9cbe-7e982ff0a364.mp3', 'https://prypto-api.aswat.co/surveillance/recordings/dddb0510-74c9-40fd-ba44-2b1265230075.mp3', 'https://prypto-api.aswat.co/surveillance/recordings/1783b169-196e-4b89-8479-7f1869c04411.mp3', 'https://prypto-api.aswat.co/surveillance/recordings/44fe5e2b-4428-41a1-826b-5de427b7930e.mp3', 'https://prypto-api.aswat.co/surveillance/recordings/df355328-7db2-4a8b-b2cd-8072119925a4.mp3', 'https://prypto-api.aswat.co/surveillance/recordings/9c2cc768-9690-4f52-a66b-1aec206da080.mp3', 'https://prypto-api.aswat.co/surveillance/recordings/e69da963-94d2-464f-ba06-8ee087834945.mp3', 'https://prypto-api.aswat.co/surveillance/recordings/c8bcbdd6-ed06-40a8-aef9-07b597f2df73.mp3', 'https://prypto-api.aswat.co/surveillance/recordings/50d8ab95-d8c8-45b4-9cc1-205519a89ca6.mp3', 'https://prypto-api.aswat.co/surveillance/recordings/774e38bf-3db6-41ce-a4eb-c465057396d7.mp3', 'https://prypto-api.aswat.co/surveillance/recordings/101de3ee-6710-4ccc-af4a-20167beca75f.mp3', 'https://prypto-api.aswat.co/surveillance/recordings/e740e95f-91aa-4700-97e8-7cd04b424107.mp3', 'https://prypto-api.aswat.co/surveillance/recordings/5f61897c-ea09-445b-8537-b0219ae0de87.mp3', 'https://prypto-api.aswat.co/surveillance/recordings/f1f42c3c-f904-405f-b47a-1e1129d046ff.mp3', 'https://prypto-api.aswat.co/surveillance/recordings/e73bf760-d0a2-4263-b5a2-c1e00700fd9c.mp3', 'https://prypto-api.aswat.co/surveillance/recordings/372fd324-8d71-4d94-9081-a786481c6a71.mp3', 'https://prypto-api.aswat.co/surveillance/recordings/3d5c6413-397f-41c9-8044-effc34cdc4a2.mp3', 'https://prypto-api.aswat.co/surveillance/recordings/a1039db9-50c6-4a9a-b43a-8d13076e6abb.mp3', 'https://prypto-api.aswat.co/surveillance/recordings/fa3c49b4-116b-4ac2-9fa7-9257e6a63d97.mp3', 'https://prypto-api.aswat.co/surveillance/recordings/fb9c7383-9a86-481b-abff-45201608454e.mp3', 'https://prypto-api.aswat.co/surveillance/recordings/1cb00cee-3ad8-4839-8520-6898b436adf2.mp3', 'https://prypto-api.aswat.co/surveillance/recordings/6e90ae3b-5e99-4d1e-8fb4-ec8a3085845b.mp3', 'https://prypto-api.aswat.co/surveillance/recordings/147e67f1-437a-4eb4-890d-82da8513ee55.mp3', 'https://prypto-api.aswat.co/surveillance/recordings/ba4a3975-66b3-451c-b0d8-9e1049fdbf45.mp3', 'https://prypto-api.aswat.co/surveillance/recordings/48d9a029-18cd-4518-98dd-b95bb88a55d6.mp3', 'https://prypto-api.aswat.co/surveillance/recordings/d1ba66d2-7f7f-476c-88eb-d045704c20bd.mp3', 'https://prypto-api.aswat.co/surveillance/recordings/b8e1a478-0402-4d03-be1f-2d7bb104228f.mp3', 'https://prypto-api.aswat.co/surveillance/recordings/38d69045-410c-49dd-b5eb-2d90dda9a4df.mp3', 'https://prypto-api.aswat.co/surveillance/recordings/78a45a1b-2dc8-4554-bc36-4378f0244ad5.mp3', 'https://prypto-api.aswat.co/surveillance/recordings/ad92460f-e330-450e-9bfd-277b9b4b3509.mp3', 'https://prypto-api.aswat.co/surveillance/recordings/6c882122-afdd-4b59-96fb-7072d4d1930d.mp3', 'https://prypto-api.aswat.co/surveillance/recordings/cd855b10-576d-473c-9d41-2fe583a3f3c2.mp3', 'https://prypto-api.aswat.co/surveillance/recordings/3dd36ed7-a347-4a55-884e-5c26a305daab.mp3', 'https://prypto-api.aswat.co/surveillance/recordings/494c3cab-4c9e-4aff-a0a3-be0be2483796.mp3', 'https://prypto-api.aswat.co/surveillance/recordings/8a336eb0-e83b-49f4-b137-92bda5e71c2d.mp3', 'https://prypto-api.aswat.co/surveillance/recordings/eccad826-633e-445e-aa2a-83f8e5c423c1.mp3', 'https://prypto-api.aswat.co/surveillance/recordings/2c911c03-f0d7-4c84-839e-24eb5e366831.mp3', 'https://prypto-api.aswat.co/surveillance/recordings/a6552f1f-1a43-4343-adbe-eb693650ab4d.mp3', 'https://prypto-api.aswat.co/surveillance/recordings/5cb6eed2-b497-46ae-a548-07e25492bd4f.mp3', 'https://prypto-api.aswat.co/surveillance/recordings/91791516-b110-43a5-aeb5-8fc40491c574.mp3', 'https://prypto-api.aswat.co/surveillance/recordings/40900b5d-b93d-4ca5-a320-fc7ad1b3b782.mp3', 'https://prypto-api.aswat.co/surveillance/recordings/412cf035-fbcc-4d88-baab-8cdaed16bcdc.mp3', 'https://prypto-api.aswat.co/surveillance/recordings/5dfdc5ee-491a-4865-94d6-e6efea56e0bd.mp3', 'https://prypto-api.aswat.co/surveillance/recordings/01fe7ec7-5fec-46cc-b3be-7946f5a84085.mp3', 'https://prypto-api.aswat.co/surveillance/recordings/e1545f43-ae7b-4d4d-bc35-29bd43394f64.mp3', 'https://prypto-api.aswat.co/surveillance/recordings/b9c7a15e-6c46-42b8-9ec6-698b7eb52e76.mp3', 'https://prypto-api.aswat.co/surveillance/recordings/4f5d2414-b81c-4cd3-a586-f727a16fd636.mp3', 'https://prypto-api.aswat.co/surveillance/recordings/12845613-9f0f-4e80-baff-540738200765.mp3', 'https://prypto-api.aswat.co/surveillance/recordings/08c7b48e-392c-4e1a-8109-acf794726381.mp3', 'https://prypto-api.aswat.co/surveillance/recordings/1cafe1e6-baab-4d43-88d2-30b588ebad71.mp3', 'https://prypto-api.aswat.co/surveillance/recordings/11d1ef7a-628b-46fa-a96a-fc0608d3587e.mp3', 'https://prypto-api.aswat.co/surveillance/recordings/277c2ba4-6155-4f66-b1e9-c20a1288f03f.mp3', 'https://prypto-api.aswat.co/surveillance/recordings/66ab1da7-7a4c-4ece-bc45-ff6f698c6d3e.mp3', 'https://prypto-api.aswat.co/surveillance/recordings/130c7ed2-7d66-4cf3-a25f-03c8fe7336ce.mp3', 'https://prypto-api.aswat.co/surveillance/recordings/ad6d41dd-b3ca-4387-9438-afd2d8654a5d.mp3', 'https://prypto-api.aswat.co/surveillance/recordings/83e15538-ee3e-41a8-8577-f4d3b677d86f.mp3', 'https://prypto-api.aswat.co/surveillance/recordings/65fd025a-fe69-433c-8261-77f1c750cea7.mp3', 'https://prypto-api.aswat.co/surveillance/recordings/7cd6c5f0-4c2c-4208-9778-957ff3e0c5a6.mp3', 'https://prypto-api.aswat.co/surveillance/recordings/fa258fa9-9cee-4fc1-ac99-2da6389ee757.mp3', 'https://prypto-api.aswat.co/surveillance/recordings/aec581f5-0c0b-43b1-b2cc-bf10bffccb33.mp3', 'https://prypto-api.aswat.co/surveillance/recordings/a489b597-6cee-4e73-90a1-deb02ed24821.mp3', 'https://prypto-api.aswat.co/surveillance/recordings/43bd79a8-5799-4d0c-a884-bf8c5b0067b2.mp3', 'https://prypto-api.aswat.co/surveillance/recordings/44a1825f-3179-4d6d-82bf-1492f3194ddc.mp3', 'https://prypto-api.aswat.co/surveillance/recordings/682e358f-9ddf-4286-867e-09a75f03bc7e.mp3', 'https://prypto-api.aswat.co/surveillance/recordings/d7b0237f-5786-4917-90b7-3b351c949e5c.mp3', 'https://prypto-api.aswat.co/surveillance/recordings/6994389d-787b-4089-a97a-fe09e50b3637.mp3', 'https://prypto-api.aswat.co/surveillance/recordings/036d4b30-b163-41ff-a1f7-1d5a96a71f55.mp3', 'https://prypto-api.aswat.co/surveillance/recordings/1b6b3e03-b09e-419a-b615-e9e53a2ab349.mp3', 'https://prypto-api.aswat.co/surveillance/recordings/85aabaa6-a6c3-4846-8dd3-5d9a3576061a.mp3', 'https://prypto-api.aswat.co/surveillance/recordings/2ca61fae-8015-465e-9e87-72f2081110f9.mp3', 'https://prypto-api.aswat.co/surveillance/recordings/623d303f-a68c-44d0-a419-4dd4d9fc740d.mp3', 'https://prypto-api.aswat.co/surveillance/recordings/e3ca6809-21b3-4021-8051-c3ef69b54584.mp3', 'https://prypto-api.aswat.co/surveillance/recordings/0fddf51a-3274-49d0-bfc8-2663d6155842.mp3', 'https://prypto-api.aswat.co/surveillance/recordings/5550faeb-32e1-4df6-b223-bea6df1a82e2.mp3', 'https://prypto-api.aswat.co/surveillance/recordings/ec4dee01-f7a0-4111-bba9-ebd15a0a9f20.mp3', 'https://prypto-api.aswat.co/surveillance/recordings/10ee71bb-ab03-4089-9f6d-87ae85f966e9.mp3', 'https://prypto-api.aswat.co/surveillance/recordings/26305904-a3fe-4d98-89fb-c3a638438fa3.mp3', 'https://prypto-api.aswat.co/surveillance/recordings/96abc655-0fbe-4a4c-bbed-8b55eb11494b.mp3', 'https://prypto-api.aswat.co/surveillance/recordings/de8bd4b5-2006-4d44-b66b-80332998976e.mp3', 'https://prypto-api.aswat.co/surveillance/recordings/1e9bf3c5-f172-40a7-b78a-3c81f4ca49b4.mp3', 'https://prypto-api.aswat.co/surveillance/recordings/91b6f258-5bed-4ffa-bcea-b1a8c7d773a2.mp3', 'https://prypto-api.aswat.co/surveillance/recordings/045dd11e-d41a-4979-af1f-71daf9dea55c.mp3', 'https://prypto-api.aswat.co/surveillance/recordings/dc601ba0-fcae-43b0-9111-1d181ab6a408.mp3', 'https://prypto-api.aswat.co/surveillance/recordings/6dae9366-7e6b-4ad7-99af-8018d9d979b2.mp3', 'https://prypto-api.aswat.co/surveillance/recordings/ef59361d-81b8-444b-b417-6de0d1fc7085.mp3', 'https://prypto-api.aswat.co/surveillance/recordings/57d91954-7162-4e6d-a8bd-4b24ecbaffd7.mp3', 'https://prypto-api.aswat.co/surveillance/recordings/5f21c596-3cda-4cd0-99fd-68d70f66a8cc.mp3', 'https://prypto-api.aswat.co/surveillance/recordings/35a48deb-bdb5-473b-bee7-3623e6ad9792.mp3', 'https://prypto-api.aswat.co/surveillance/recordings/ff365a4c-098d-43a7-b63b-8c745efa8034.mp3', 'https://prypto-api.aswat.co/surveillance/recordings/b46ec4c9-4b9a-4418-8fde-46e4d9fb7072.mp3', 'https://prypto-api.aswat.co/surveillance/recordings/305c27b2-f31d-42dc-8127-f134368895f7.mp3', 'https://prypto-api.aswat.co/surveillance/recordings/ed93ae16-eab2-4faa-8142-0a11b5db5b51.mp3', 'https://prypto-api.aswat.co/surveillance/recordings/35272cfc-0754-4898-a488-5e0f13fd6a88.mp3', 'https://prypto-api.aswat.co/surveillance/recordings/be471908-d6a1-4177-96af-46a5c6149ca3.mp3', 'https://prypto-api.aswat.co/surveillance/recordings/f0eaeb6c-4aab-413a-914f-142af2a19c17.mp3', 'https://prypto-api.aswat.co/surveillance/recordings/055f5999-61b6-4f86-8727-5920d0e4fde6.mp3', 'https://prypto-api.aswat.co/surveillance/recordings/e80b1fc5-31cd-434f-89cf-fa198641f653.mp3', 'https://prypto-api.aswat.co/surveillance/recordings/2781b6ac-66f2-4e4f-a6b3-d8376f2266ff.mp3', 'https://prypto-api.aswat.co/surveillance/recordings/c4aad711-7d8f-4bb6-b6b0-b34ef6616f2a.mp3', 'https://prypto-api.aswat.co/surveillance/recordings/cba49a2d-b862-4fdc-be83-fbef3eecfe81.mp3', 'https://prypto-api.aswat.co/surveillance/recordings/24347780-f9a5-4f00-8594-c9a88482b989.mp3', 'https://prypto-api.aswat.co/surveillance/recordings/4b31982e-6116-4113-820a-67c89833049d.mp3', 'https://prypto-api.aswat.co/surveillance/recordings/507afb91-e2f3-4eda-ab8e-c24dde50e0c5.mp3', 'https://prypto-api.aswat.co/surveillance/recordings/21dac672-2826-4c02-8ba7-978a712b7526.mp3', 'https://prypto-api.aswat.co/surveillance/recordings/598056c9-7122-4bc4-9c00-581863bb9251.mp3', 'https://prypto-api.aswat.co/surveillance/recordings/967d2d1d-96e6-42b7-8c97-50cf535477e0.mp3', 'https://prypto-api.aswat.co/surveillance/recordings/deea089c-3ad6-4135-989b-d323f4f27289.mp3', 'https://prypto-api.aswat.co/surveillance/recordings/f166a867-3f9a-41d4-b22c-3c7bf2e318a9.mp3', 'https://prypto-api.aswat.co/surveillance/recordings/03ed77b4-a442-4bd0-b40e-493a59ced856.mp3', 'https://prypto-api.aswat.co/surveillance/recordings/d98a7c8a-da5f-4ebf-8150-ab99dd9fe200.mp3', 'https://prypto-api.aswat.co/surveillance/recordings/3349dd32-95c8-4800-b006-34c53d5b5da0.mp3', 'https://prypto-api.aswat.co/surveillance/recordings/f8846a03-7b08-467a-a554-d102de4d17ca.mp3', 'https://prypto-api.aswat.co/surveillance/recordings/20ba5a7d-d880-4ae3-a178-c84627ad8fd5.mp3', 'https://prypto-api.aswat.co/surveillance/recordings/58370d1d-46fd-43e1-82bb-b928479a3951.mp3', 'https://prypto-api.aswat.co/surveillance/recordings/1a8b934d-07d5-470b-aee4-522040cb2239.mp3', 'https://prypto-api.aswat.co/surveillance/recordings/db6260d7-da4b-40ea-9f75-2a7c59ac8712.mp3', 'https://prypto-api.aswat.co/surveillance/recordings/4e6e6b17-aea4-41fd-9ddc-e339d21dd661.mp3', 'https://prypto-api.aswat.co/surveillance/recordings/7c60be8e-08e0-4a08-b82b-4ba1e656c824.mp3', 'https://prypto-api.aswat.co/surveillance/recordings/63684bee-096b-4981-b98f-edfcc60bcc4c.mp3', 'https://prypto-api.aswat.co/surveillance/recordings/f2c4daa6-24d4-443e-a093-0d89a8756975.mp3', 'https://prypto-api.aswat.co/surveillance/recordings/7b3727b2-9582-40c4-be2c-5662c1a93ca5.mp3', 'https://prypto-api.aswat.co/surveillance/recordings/aa131ae8-07ec-4599-89af-864a082fe42c.mp3', 'https://prypto-api.aswat.co/surveillance/recordings/87b84f55-1b0d-4358-8e95-3d8dee541fdb.mp3', 'https://prypto-api.aswat.co/surveillance/recordings/6a7ec6df-23da-4bbb-a8ed-f17bb973fa99.mp3', 'https://prypto-api.aswat.co/surveillance/recordings/b8da9ba2-2e0d-404f-a66c-1509f02d0e9b.mp3', 'https://prypto-api.aswat.co/surveillance/recordings/43c36d45-1d45-48c8-98d6-8cee06455c69.mp3', 'https://prypto-api.aswat.co/surveillance/recordings/06544200-c520-4fa9-b5b7-5042394c9a7a.mp3', 'https://prypto-api.aswat.co/surveillance/recordings/bfea2a71-9ceb-4fc5-a137-f205efeb17f7.mp3', 'https://prypto-api.aswat.co/surveillance/recordings/ca5ebb16-f083-41f4-ae53-bf9b281f4e04.mp3', 'https://prypto-api.aswat.co/surveillance/recordings/724425de-bafd-4477-b142-5e46c429bbb0.mp3', 'https://prypto-api.aswat.co/surveillance/recordings/3d0e9843-dc69-4cb9-b2c3-1db68c2cb671.mp3', 'https://prypto-api.aswat.co/surveillance/recordings/5bd7e3a9-3201-427e-aee9-14794084be91.mp3', 'https://prypto-api.aswat.co/surveillance/recordings/24bb2b54-5812-47f9-a238-a495c26d8d3d.mp3', 'https://prypto-api.aswat.co/surveillance/recordings/4291e611-93b0-47a1-af5a-468cc560ba6e.mp3', 'https://prypto-api.aswat.co/surveillance/recordings/663bb5ec-577c-489d-9236-61cf678ff600.mp3', 'https://prypto-api.aswat.co/surveillance/recordings/be8ef3fa-e5f8-4f7b-9744-06062b4024b4.mp3', 'https://prypto-api.aswat.co/surveillance/recordings/d361f56e-a213-45d0-8c43-db0ecd9f47f6.mp3', 'https://prypto-api.aswat.co/surveillance/recordings/4dd49643-1bcd-4de3-a660-fc8e1e6bd1e8.mp3', 'https://prypto-api.aswat.co/surveillance/recordings/5f53c28b-3504-4b8b-9db5-0c8b69a96233.mp3', 'https://prypto-api.aswat.co/surveillance/recordings/0bb0ff65-689b-4330-982d-740a3fbafc3a.mp3', 'https://prypto-api.aswat.co/surveillance/recordings/e4407343-3277-4e40-8bad-c921711206d8.mp3', 'https://prypto-api.aswat.co/surveillance/recordings/137c71ee-a25c-4c3d-9e07-f2b2761fc074.mp3', 'https://prypto-api.aswat.co/surveillance/recordings/49f93211-309e-4d28-a418-72b79e4eaf26.mp3', 'https://prypto-api.aswat.co/surveillance/recordings/e5bf43cf-b202-446a-9958-198bbfbb766b.mp3', 'https://prypto-api.aswat.co/surveillance/recordings/396c376e-4cbb-4b80-a41e-3d33947f3334.mp3', 'https://prypto-api.aswat.co/surveillance/recordings/eeaecda4-9385-4871-ac98-63026a889704.mp3', 'https://prypto-api.aswat.co/surveillance/recordings/2c80fb7a-8090-47a6-b792-3b124587d4cf.mp3', 'https://prypto-api.aswat.co/surveillance/recordings/528a1511-02e4-4cf9-97e3-f0510efac84e.mp3', 'https://prypto-api.aswat.co/surveillance/recordings/e78e06a4-19b1-4408-b418-edc4ffcd1793.mp3', 'https://prypto-api.aswat.co/surveillance/recordings/6d338536-23cc-4b89-bce6-69337ae9ce8c.mp3', 'https://prypto-api.aswat.co/surveillance/recordings/9fa0ee83-3036-47fb-b84c-cf2f4f56bf0f.mp3', 'https://prypto-api.aswat.co/surveillance/recordings/35b31bb4-0ac7-4582-ad57-844d321978ee.mp3', 'https://prypto-api.aswat.co/surveillance/recordings/e56ef9a2-5ca2-4501-8bbf-1b7a46ec12c9.mp3', 'https://prypto-api.aswat.co/surveillance/recordings/4d3a42a8-9ca1-4689-89b0-83741f4e0c79.mp3', 'https://prypto-api.aswat.co/surveillance/recordings/7f3c8689-703c-41dd-a32f-37f0a709c827.mp3', 'https://prypto-api.aswat.co/surveillance/recordings/f9bf327d-cd49-433c-a8c8-3b0bc78ad329.mp3', 'https://prypto-api.aswat.co/surveillance/recordings/8c0a39d8-7bc2-41b4-bbb3-6ed43ee8a285.mp3', 'https://prypto-api.aswat.co/surveillance/recordings/bd00b9b6-5d40-43bd-aaf1-51667056385a.mp3', 'https://prypto-api.aswat.co/surveillance/recordings/e7c5d74b-d7cd-4ad5-aa69-31b280bc5975.mp3', 'https://prypto-api.aswat.co/surveillance/recordings/40b7e8cd-192b-4b74-bc10-ce5d2f84e993.mp3', 'https://prypto-api.aswat.co/surveillance/recordings/2f5d0ed8-450b-4a1b-9754-ebaa27b7dc93.mp3', 'https://prypto-api.aswat.co/surveillance/recordings/5a0e3bd9-f603-45b8-a086-8c38be251a73.mp3', 'https://prypto-api.aswat.co/surveillance/recordings/b56a23a1-e893-4c18-b19a-3f86bf23ac0b.mp3', 'https://prypto-api.aswat.co/surveillance/recordings/37174d3d-e2bf-44a4-9bb8-75a37bd46b9a.mp3', 'https://prypto-api.aswat.co/surveillance/recordings/4a9ce910-bfc3-4951-b982-f3996cf71c4f.mp3', 'https://prypto-api.aswat.co/surveillance/recordings/52161ed9-1ccc-4575-8f28-ee957afaeef0.mp3', 'https://prypto-api.aswat.co/surveillance/recordings/6ca611bd-9280-4d37-8a1d-1f16b7a96729.mp3', 'https://prypto-api.aswat.co/surveillance/recordings/7a54c5e4-228c-48e5-9ae9-d9c57728ad27.mp3', 'https://prypto-api.aswat.co/surveillance/recordings/8ae906db-b582-4ed3-8b90-2fa8ed22be4d.mp3', 'https://prypto-api.aswat.co/surveillance/recordings/4de17097-1b57-4a7b-b130-0cb60ab9fc2e.mp3', 'https://prypto-api.aswat.co/surveillance/recordings/285f131a-5dc2-46cb-88c5-19f5e2792fc5.mp3', 'https://prypto-api.aswat.co/surveillance/recordings/8825f7c2-7a96-4529-b717-dfbfb5a57e2b.mp3', 'https://prypto-api.aswat.co/surveillance/recordings/43d29789-b414-4c57-b672-fc79418c43f9.mp3', 'https://prypto-api.aswat.co/surveillance/recordings/9ceaf319-9020-4c03-8b7f-e7f1150936a0.mp3', 'https://prypto-api.aswat.co/surveillance/recordings/04c89f3c-4149-4a46-a26e-ed56cf65c74d.mp3', 'https://prypto-api.aswat.co/surveillance/recordings/262b3284-570c-4a5f-a96d-971a4dce688d.mp3', 'https://prypto-api.aswat.co/surveillance/recordings/5c03797f-bf8d-483e-a872-f74a949468f9.mp3', 'https://prypto-api.aswat.co/surveillance/recordings/7650f43e-d134-49d3-a389-9d2fe6f1b70e.mp3', 'https://prypto-api.aswat.co/surveillance/recordings/ce66f411-daa8-456a-990c-26fa0c1ec56d.mp3', 'https://prypto-api.aswat.co/surveillance/recordings/e2ae6041-0859-479d-9137-04311b60213b.mp3', 'https://prypto-api.aswat.co/surveillance/recordings/1b056383-3269-473f-a612-1f9bc6de5101.mp3', 'https://prypto-api.aswat.co/surveillance/recordings/3c583105-d7a8-4089-8979-05989d348ddb.mp3', 'https://prypto-api.aswat.co/surveillance/recordings/2dcc3309-2544-4574-9ea8-0153be9eb200.mp3', 'https://prypto-api.aswat.co/surveillance/recordings/05d4154d-a644-4329-9ca5-0b2aaade868d.mp3', 'https://prypto-api.aswat.co/surveillance/recordings/24aa384b-a400-4ff1-b90b-4d30f244141a.mp3', 'https://prypto-api.aswat.co/surveillance/recordings/ceadd251-56fb-4ade-b2aa-ab375fcb33a6.mp3', 'https://prypto-api.aswat.co/surveillance/recordings/0c7b3f75-5fc6-412d-b0f7-d15157a7cffa.mp3', 'https://prypto-api.aswat.co/surveillance/recordings/b94d1a0e-ab95-4761-9f6d-f2215683a26d.mp3', 'https://prypto-api.aswat.co/surveillance/recordings/7cfb2a32-bd63-4d07-9725-34c2c8416aaf.mp3', 'https://prypto-api.aswat.co/surveillance/recordings/0468776d-3e38-446a-9303-ea1d6e03bbbd.mp3', 'https://prypto-api.aswat.co/surveillance/recordings/725b0234-ed93-40c8-b79d-83b123cc2b88.mp3', 'https://prypto-api.aswat.co/surveillance/recordings/d4c3e0f6-3554-459e-a55c-777189204ca7.mp3', 'https://prypto-api.aswat.co/surveillance/recordings/38ef50ed-833b-4082-89f0-44189ce7f1f2.mp3', 'https://prypto-api.aswat.co/surveillance/recordings/37ab46f9-8af6-48cc-a28b-823ccd458ef2.mp3', 'https://prypto-api.aswat.co/surveillance/recordings/773962f1-c4f1-41f6-8cc9-62802b0022d8.mp3', 'https://prypto-api.aswat.co/surveillance/recordings/f7375a3f-bdc3-43e0-b2af-b6642fed662c.mp3', 'https://prypto-api.aswat.co/surveillance/recordings/73becc91-1e57-4b0f-8389-deebc3f44f71.mp3', 'https://prypto-api.aswat.co/surveillance/recordings/da9b98af-8e17-4d76-a90a-1acd6b9569dd.mp3', 'https://prypto-api.aswat.co/surveillance/recordings/b01d2bd3-0827-44bc-b35d-c7a0ae9c05d2.mp3', 'https://prypto-api.aswat.co/surveillance/recordings/29654cef-49f2-43a3-b7f6-3c3fa1fef96a.mp3', 'https://prypto-api.aswat.co/surveillance/recordings/9433335d-f8f4-43f0-a4d2-22b684495e85.mp3', 'https://prypto-api.aswat.co/surveillance/recordings/05f3bb3d-52f3-4c39-a0ef-8e5d7fc2ff52.mp3']\n"
     ]
    }
   ],
   "source": [
    "def download_recording(data):\n",
    "    url_link = data['Ameyo Recording URL']\n",
    "    account_name = data['Company / Account']\n",
    "    assigned_name = data['Assigned']\n",
    "    os.system('wget {} {}'.format(url_link,'audio_{}_{}.mp3'.format(account_name,assigned_name)))\n",
    "    return \n",
    "# excel_data.apply(lambda x: download_recording(x),axis=1)\n",
    "\n",
    "audio_files = excel_data['Ameyo Recording URL'].to_list()\n",
    "print(audio_files)"
   ]
  },
  {
   "cell_type": "code",
   "execution_count": null,
   "metadata": {},
   "outputs": [],
   "source": [
    "# Loading the Whisper model into Device \n",
    "if torch.cuda.is_available():\n",
    "    device = 'cuda'\n",
    "else:\n",
    "    device = 'cpu'\n",
    "\n",
    "whisper_model_name = 'small' # hyperparameter -- Improving this will improve info \n",
    "stime = time.time()\n",
    "wisper_model = whisper.load_model(whisper_model_name,device=device)\n",
    "# emotion_classifier = pipeline(\"text-classification\",model='bhadresh-savani/distilbert-base-uncased-emotion')\n",
    "print(\"Models loaded into memory -- {:.2f}sec\".format(time.time()-stime))"
   ]
  },
  {
   "cell_type": "code",
   "execution_count": null,
   "metadata": {},
   "outputs": [],
   "source": [
    "data_path = '../data/Audio'\n",
    "# audio_files = [fname for fname in os.listdir(data_path) if fname.endswith(('mp3','wav'))]\n",
    "# print(\"Total number of audio files found : \",len(audio_files))"
   ]
  },
  {
   "attachments": {},
   "cell_type": "markdown",
   "metadata": {},
   "source": [
    "### Conversion from Speech to text with traslation and emotion Detection\n",
    "\n",
    "The below functions load the audio file with Sampling rate of 16000 hz/s. We clip the audio file to 30 seconds to get the language of the conversation. If the language is not EN we translate and save the info in dict file else we simply translate . "
   ]
  },
  {
   "cell_type": "code",
   "execution_count": null,
   "metadata": {},
   "outputs": [],
   "source": [
    "conversation_dict = OrderedDict()"
   ]
  },
  {
   "attachments": {},
   "cell_type": "markdown",
   "metadata": {},
   "source": [
    "#### Get Sentiment analysis From VADER\n",
    "\n",
    "This will be saved as metadata for analyzing the sentiment of the person talking"
   ]
  },
  {
   "cell_type": "code",
   "execution_count": null,
   "metadata": {},
   "outputs": [],
   "source": [
    "# # Sentiment Analyzer \n",
    "# import nltk \n",
    "# from nltk.sentiment.vader import SentimentIntensityAnalyzer\n",
    "# sia=SentimentIntensityAnalyzer()\n",
    "\n",
    "# def get_sentiment(text_result):\n",
    "#     emotion = None \n",
    "#     if sia.polarity_scores(text_result)['compound']>0:\n",
    "#         emotion = 'Positive'\n",
    "#     elif sia.polarity_scores(text_result)['compound']<0:\n",
    "#         emotion = 'Negative'\n",
    "#     else :\n",
    "#         emotion = 'Neutral '\n",
    "#     return emotion"
   ]
  },
  {
   "cell_type": "code",
   "execution_count": null,
   "metadata": {},
   "outputs": [],
   "source": [
    "def get_language(audio,duration=30):\n",
    "    clip_audio = whisper.pad_or_trim(audio,length=SAMPLE_RATE*duration)\n",
    "    result = wisper_model.transcribe(clip_audio)\n",
    "    return result['language']\n",
    "\n",
    "def speech2text(audio_file,meta_info=[]):\n",
    "    audio = whisper.load_audio(audio_file)\n",
    "    audio_language = get_language(audio)\n",
    "    if meta_info is None:\n",
    "        meta_info = ['','']\n",
    "    if audio_language =='en':\n",
    "        result = wisper_model.transcribe(audio)\n",
    "    else:\n",
    "        print(\"Spoken Language is not english.  Translating {} to english\".format(audio_language))\n",
    "        # result = wisper_model.transcribe(audio, task='translate')\n",
    "        return \n",
    "    \n",
    "    result = wisper_model.transcribe(audio_file)\n",
    "\n",
    "    return {\n",
    "            'filename':os.path.basename(audio_file),\n",
    "            'content':{\n",
    "                'text':result['text'],\n",
    "                'language':audio_language,\n",
    "                'Customer':meta_info[0],\n",
    "                'Assigned': meta_info[1],\n",
    "                'properties':{\n",
    "                    'segments':len(result['segments']),\n",
    "                    'audio_duration':audio.shape[0]/SAMPLE_RATE,\n",
    "                    }\n",
    "                }\n",
    "            }"
   ]
  },
  {
   "cell_type": "code",
   "execution_count": null,
   "metadata": {},
   "outputs": [],
   "source": [
    "from tqdm import tqdm\n",
    "conversation_dict['Data'] = list()\n",
    "for fname in tqdm(audio_files):\n",
    "    file_path = os.path.join(data_path,fname)\n",
    "    meta_information = excel_data[['Opportunity','Assigned']][excel_data['Ameyo Recording URL'].str.contains(fname)].values.tolist()[0]\n",
    "    conversation_dict['Data'].append(speech2text(audio_file=file_path,meta_info=meta_information))\n",
    "    break\n",
    "\n",
    "# with open(\"../data/Audio_data.json\", \"w\") as outfile:\n",
    "#     json.dump(conversation_dict, outfile,indent=4)"
   ]
  },
  {
   "cell_type": "code",
   "execution_count": null,
   "metadata": {},
   "outputs": [],
   "source": [
    "with open(\"../data/Audio_data.json\", \"w\") as outfile:\n",
    "    json.dump(conversation_dict, outfile,indent=4)"
   ]
  },
  {
   "attachments": {},
   "cell_type": "markdown",
   "metadata": {},
   "source": [
    "### Asking Chat gpt to make some conversations "
   ]
  },
  {
   "attachments": {},
   "cell_type": "markdown",
   "metadata": {},
   "source": [
    "#### Load the Conversations as Json Loader "
   ]
  },
  {
   "cell_type": "code",
   "execution_count": null,
   "metadata": {},
   "outputs": [],
   "source": [
    "\n",
    "# with open(\"../data/Audio_data.json\" ,'r') as fd:\n",
    "#     data = json.load(fd)\n",
    "\n",
    "# for content in data['Data']:\n",
    "#     content['content']['text'] = \"{} is assigned to customer {}. Conversation:{}\".format(content['content']['Assigned'],content['content']['Customer'],content['content']['text'])\n",
    "\n",
    "# with open(\"../data/Audio_data_modified.json\", \"w\") as outfile:\n",
    "#     json.dump(data, outfile,indent=4)"
   ]
  },
  {
   "cell_type": "code",
   "execution_count": null,
   "metadata": {},
   "outputs": [],
   "source": [
    "from langchain.document_loaders import JSONLoader\n",
    "from langchain.text_splitter import CharacterTextSplitter\n",
    "\n",
    "def metadata_func(record: dict, metadata: dict) -> dict:\n",
    "    metadata[\"language\"] = record.get(\"language\")\n",
    "    metadata[\"audio_properties\"] = record.get(\"properties\")\n",
    "    metadata[\"Customer\"] = record.get(\"Customer\")\n",
    "    metadata[\"Assigned\"] = record.get(\"Assigned\")\n",
    "    return metadata\n",
    "\n",
    "loader = JSONLoader(\n",
    "    file_path='../data/Audio_data_modified.json',\n",
    "    jq_schema='.Data[].content',\n",
    "    content_key=\"text\",\n",
    "    metadata_func=metadata_func\n",
    ")"
   ]
  },
  {
   "cell_type": "code",
   "execution_count": null,
   "metadata": {},
   "outputs": [],
   "source": [
    "conversation = loader.load()\n",
    "conversation[:4]"
   ]
  },
  {
   "cell_type": "code",
   "execution_count": null,
   "metadata": {},
   "outputs": [],
   "source": [
    "text_splitter = CharacterTextSplitter(chunk_size=500,chunk_overlap=0) # hyperparameters \n",
    "texts = text_splitter.split_documents(documents=conversation)  # metadatas=[doc.metadata for doc in docs]\n"
   ]
  },
  {
   "cell_type": "code",
   "execution_count": null,
   "metadata": {},
   "outputs": [],
   "source": [
    "print(\"Total texts documents \",len(texts))\n",
    "print(type(texts),type(texts[0]))"
   ]
  },
  {
   "attachments": {},
   "cell_type": "markdown",
   "metadata": {},
   "source": [
    "### Conversation data into Embedddings "
   ]
  },
  {
   "cell_type": "code",
   "execution_count": null,
   "metadata": {},
   "outputs": [],
   "source": [
    "from langchain.embeddings.base import Embeddings\n",
    "from typing import List\n",
    "from sentence_transformers import SentenceTransformer\n",
    "from langchain.embeddings.openai import OpenAIEmbeddings\n",
    "\n",
    "import openai\n",
    "import os \n",
    "os.environ['OPENAI_API_KEY'] = \"\" \n",
    "\n",
    "class LocalHuggingFaceEmbeddings(Embeddings):\n",
    "    def __init__(self, model_id): \n",
    "        # Should use the GPU by default\n",
    "        self.model = SentenceTransformer(model_id)\n",
    "        \n",
    "    def embed_documents(self, texts: List[str]) -> List[List[float]]:\n",
    "        \"\"\"Embed a list of documents using a locally running\n",
    "           Hugging Face Sentence Transformer model\n",
    "        Args:\n",
    "            texts: The list of texts to embed.\n",
    "        Returns:\n",
    "            List of embeddings, one for each text.\n",
    "        \"\"\"\n",
    "        embeddings =self.model.encode(texts)\n",
    "        return embeddings\n",
    "\n",
    "    def embed_query(self, text: str) -> List[float]:\n",
    "        \"\"\"Embed a query using a locally running HF \n",
    "        Sentence trnsformer. \n",
    "        Args:\n",
    "            text: The text to embed.\n",
    "        Returns:\n",
    "            Embeddings for the text.\n",
    "        \"\"\"\n",
    "        embedding = self.model.encode(text)\n",
    "        return list(map(float, embedding))\n",
    "\n",
    "local_embeddings = LocalHuggingFaceEmbeddings('multi-qa-mpnet-base-dot-v1')\n",
    "open_ai_embeddings = OpenAIEmbeddings()"
   ]
  },
  {
   "cell_type": "code",
   "execution_count": null,
   "metadata": {},
   "outputs": [],
   "source": [
    "from langchain.vectorstores import FAISS\n",
    "vectorstore =  FAISS.from_documents(documents=texts,\n",
    "                                    embedding = open_ai_embeddings\n",
    "                                    ) # turn dcos into Vectors and store them in RAM also add metadata \n",
    "vectorstore.save_local('../data/faiss_dmac_conv')"
   ]
  },
  {
   "attachments": {},
   "cell_type": "markdown",
   "metadata": {},
   "source": [
    "## Retrival QA\n",
    "Better version of Query \n",
    "\n",
    "###  underneath the hood \n",
    "- Underneath the hood is taking our query that we're going which is send to embed.\n",
    "- Its turned into a vector, send it into device vector store.\n",
    "- Then it's going to find similar vectors to that vector and it's going to bring those vectors back.\n",
    "- Translate them into the text and we're going to send this as the context exactly like the vector chain, but with a bit of different parameters, but nothing very different here."
   ]
  },
  {
   "cell_type": "code",
   "execution_count": null,
   "metadata": {},
   "outputs": [],
   "source": [
    "from langchain.chains import RetrievalQA ,VectorDBQAWithSourcesChain ,RetrievalQAWithSourcesChain\n",
    "from langchain.prompts import PromptTemplate\n",
    "from langchain.llms import OpenAI\n",
    "\n",
    "new_vector_store = FAISS.load_local(\"../data/faiss_dmac_conv/\",embeddings=open_ai_embeddings)"
   ]
  },
  {
   "attachments": {},
   "cell_type": "markdown",
   "metadata": {},
   "source": [
    "### QA Retrival Chain to Answer specific questions "
   ]
  },
  {
   "cell_type": "code",
   "execution_count": null,
   "metadata": {},
   "outputs": [],
   "source": [
    "prompt_template = \"\"\"\n",
    "Analyze conversations between customer and sales person. \n",
    "Use the context to answer.If question is related to customers , answer in points with names of the customers.\n",
    "If you don't know the answer, just say No idea.\n",
    "\n",
    "{context}\n",
    "\n",
    "Question: {question}\n",
    "Answer in Points: \n",
    "\"\"\"\n",
    "\n",
    "prompt = PromptTemplate(input_variables=[\"context\",\"question\"],template=prompt_template)"
   ]
  },
  {
   "cell_type": "code",
   "execution_count": null,
   "metadata": {},
   "outputs": [],
   "source": [
    "chain_type_kwargs = {\"prompt\": prompt}\n",
    "\n",
    "qa = RetrievalQA.from_chain_type(\n",
    "                        llm=OpenAI(temperature=0),\n",
    "                        chain_type=\"stuff\",\n",
    "                        retriever = new_vector_store.as_retriever(),\n",
    "                        chain_type_kwargs=chain_type_kwargs\n",
    "                        )"
   ]
  },
  {
   "cell_type": "code",
   "execution_count": null,
   "metadata": {},
   "outputs": [],
   "source": [
    "query = \"What product Faraht Khan is interested in ?\"\n",
    "res = qa.run(query)\n",
    "print(\"query:{}\".format(query))\n",
    "print(\"response:\\n{}\".format(res))\n"
   ]
  },
  {
   "cell_type": "code",
   "execution_count": null,
   "metadata": {},
   "outputs": [],
   "source": [
    "query = \"What is next action with Faraht Khan ?\"\n",
    "res = qa.run(query)\n",
    "print(\"query:{}\".format(query))\n",
    "print(\"response:\\n{}\".format(res))"
   ]
  },
  {
   "cell_type": "code",
   "execution_count": null,
   "metadata": {},
   "outputs": [],
   "source": [
    "query = \"Customers whos' unit price is more than 1.6 million \"\n",
    "res = qa.run(query)\n",
    "print(\"query:{}\".format(query))\n",
    "print(\"response:\\n{}\".format(res))\n"
   ]
  },
  {
   "cell_type": "code",
   "execution_count": null,
   "metadata": {},
   "outputs": [],
   "source": [
    "query = \"Summarize conversations with Farhat Khan\"\n",
    "res = qa.run(query)\n",
    "print(\"query:{}\".format(query))\n",
    "print(\"response:\\n{}\".format(res))"
   ]
  },
  {
   "cell_type": "code",
   "execution_count": null,
   "metadata": {},
   "outputs": [],
   "source": [
    "query = \"For Faraht khan any follow up leads\"\n",
    "res = qa.run(query)\n",
    "print(\"query:{}\".format(query))\n",
    "print(\"response:\\n{}\".format(res))\n"
   ]
  },
  {
   "cell_type": "code",
   "execution_count": null,
   "metadata": {},
   "outputs": [],
   "source": []
  }
 ],
 "metadata": {
  "kernelspec": {
   "display_name": "pylangchain",
   "language": "python",
   "name": "python3"
  },
  "language_info": {
   "codemirror_mode": {
    "name": "ipython",
    "version": 3
   },
   "file_extension": ".py",
   "mimetype": "text/x-python",
   "name": "python",
   "nbconvert_exporter": "python",
   "pygments_lexer": "ipython3",
   "version": "3.10.11"
  },
  "orig_nbformat": 4
 },
 "nbformat": 4,
 "nbformat_minor": 2
}
