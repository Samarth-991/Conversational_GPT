{
 "cells": [
  {
   "attachments": {},
   "cell_type": "markdown",
   "metadata": {},
   "source": [
    "### Use Wisper model to Analyze the Audio wav files and convert them into Text\n",
    "\n",
    "Whisper is a general-purpose speech recognition model. It is trained on a large dataset of diverse audio and is also a multitasking model that can perform multilingual speech recognition, speech translation, and language identification."
   ]
  },
  {
   "attachments": {},
   "cell_type": "markdown",
   "metadata": {},
   "source": [
    "#### Conversational Loader "
   ]
  },
  {
   "cell_type": "code",
   "execution_count": 6,
   "metadata": {},
   "outputs": [
    {
     "name": "stdout",
     "output_type": "stream",
     "text": [
      "Defaul sample rate selected : 16000\n"
     ]
    }
   ],
   "source": [
    "import os\n",
    "import time\n",
    "## load Wisper API \n",
    "import json\n",
    "import pandas as pd \n",
    "import whisper\n",
    "from whisper.audio import SAMPLE_RATE\n",
    "import torch \n",
    "from collections import OrderedDict\n",
    "audio_path = '../data/Audio/'\n",
    "print(\"Defaul sample rate selected :\",SAMPLE_RATE)"
   ]
  },
  {
   "cell_type": "code",
   "execution_count": 7,
   "metadata": {},
   "outputs": [
    {
     "data": {
      "text/html": [
       "<div>\n",
       "<style scoped>\n",
       "    .dataframe tbody tr th:only-of-type {\n",
       "        vertical-align: middle;\n",
       "    }\n",
       "\n",
       "    .dataframe tbody tr th {\n",
       "        vertical-align: top;\n",
       "    }\n",
       "\n",
       "    .dataframe thead th {\n",
       "        text-align: right;\n",
       "    }\n",
       "</style>\n",
       "<table border=\"1\" class=\"dataframe\">\n",
       "  <thead>\n",
       "    <tr style=\"text-align: right;\">\n",
       "      <th></th>\n",
       "      <th>Date</th>\n",
       "      <th>Company / Account</th>\n",
       "      <th>Opportunity</th>\n",
       "      <th>Unnamed: 3</th>\n",
       "      <th>Lead</th>\n",
       "      <th>Assigned</th>\n",
       "      <th>Priority</th>\n",
       "      <th>Status</th>\n",
       "      <th>Task</th>\n",
       "      <th>Ameyo Recording URL</th>\n",
       "      <th>Call Type</th>\n",
       "      <th>CallDurationInSeconds</th>\n",
       "    </tr>\n",
       "  </thead>\n",
       "  <tbody>\n",
       "    <tr>\n",
       "      <th>1</th>\n",
       "      <td>4/4/2023</td>\n",
       "      <td>Mohammed Jaffer</td>\n",
       "      <td>Mohammed Jaffer</td>\n",
       "      <td>Mohammed Jaffer</td>\n",
       "      <td>NaN</td>\n",
       "      <td>Yaseen Syed Ali</td>\n",
       "      <td>Low</td>\n",
       "      <td>Completed</td>\n",
       "      <td>True</td>\n",
       "      <td>https://prypto-api.aswat.co/surveillance/recor...</td>\n",
       "      <td>Outbound</td>\n",
       "      <td>422</td>\n",
       "    </tr>\n",
       "    <tr>\n",
       "      <th>2</th>\n",
       "      <td>4/4/2023</td>\n",
       "      <td>G Abbas</td>\n",
       "      <td>G Abbas</td>\n",
       "      <td>G Abbas</td>\n",
       "      <td>NaN</td>\n",
       "      <td>Yaseen Syed Ali</td>\n",
       "      <td>Low</td>\n",
       "      <td>Completed</td>\n",
       "      <td>True</td>\n",
       "      <td>https://prypto-api.aswat.co/surveillance/recor...</td>\n",
       "      <td>Outbound</td>\n",
       "      <td>237</td>\n",
       "    </tr>\n",
       "    <tr>\n",
       "      <th>6</th>\n",
       "      <td>4/4/2023</td>\n",
       "      <td>Ahsan Khan</td>\n",
       "      <td>Ahsan Khan</td>\n",
       "      <td>Ahsan Khan</td>\n",
       "      <td>NaN</td>\n",
       "      <td>Yaseen Syed Ali</td>\n",
       "      <td>Low</td>\n",
       "      <td>Completed</td>\n",
       "      <td>True</td>\n",
       "      <td>https://prypto-api.aswat.co/surveillance/recor...</td>\n",
       "      <td>Outbound</td>\n",
       "      <td>74</td>\n",
       "    </tr>\n",
       "    <tr>\n",
       "      <th>11</th>\n",
       "      <td>4/5/2023</td>\n",
       "      <td>Fayiqa Iftikhar</td>\n",
       "      <td>Fayiqa Iftikhar</td>\n",
       "      <td>Fayiqa Iftikhar</td>\n",
       "      <td>NaN</td>\n",
       "      <td>Yaseen Syed Ali</td>\n",
       "      <td>Low</td>\n",
       "      <td>Completed</td>\n",
       "      <td>True</td>\n",
       "      <td>https://prypto-api.aswat.co/surveillance/recor...</td>\n",
       "      <td>Outbound</td>\n",
       "      <td>481</td>\n",
       "    </tr>\n",
       "    <tr>\n",
       "      <th>13</th>\n",
       "      <td>4/5/2023</td>\n",
       "      <td>Smith Suresh Shetty</td>\n",
       "      <td>Smith Suresh Shetty</td>\n",
       "      <td>Smith Suresh Shetty</td>\n",
       "      <td>NaN</td>\n",
       "      <td>Yaseen Syed Ali</td>\n",
       "      <td>Low</td>\n",
       "      <td>Completed</td>\n",
       "      <td>True</td>\n",
       "      <td>https://prypto-api.aswat.co/surveillance/recor...</td>\n",
       "      <td>Outbound</td>\n",
       "      <td>269</td>\n",
       "    </tr>\n",
       "  </tbody>\n",
       "</table>\n",
       "</div>"
      ],
      "text/plain": [
       "        Date    Company / Account          Opportunity           Unnamed: 3   \n",
       "1   4/4/2023      Mohammed Jaffer      Mohammed Jaffer      Mohammed Jaffer  \\\n",
       "2   4/4/2023              G Abbas              G Abbas              G Abbas   \n",
       "6   4/4/2023           Ahsan Khan           Ahsan Khan           Ahsan Khan   \n",
       "11  4/5/2023      Fayiqa Iftikhar      Fayiqa Iftikhar      Fayiqa Iftikhar   \n",
       "13  4/5/2023  Smith Suresh Shetty  Smith Suresh Shetty  Smith Suresh Shetty   \n",
       "\n",
       "   Lead         Assigned Priority     Status  Task   \n",
       "1   NaN  Yaseen Syed Ali      Low  Completed  True  \\\n",
       "2   NaN  Yaseen Syed Ali      Low  Completed  True   \n",
       "6   NaN  Yaseen Syed Ali      Low  Completed  True   \n",
       "11  NaN  Yaseen Syed Ali      Low  Completed  True   \n",
       "13  NaN  Yaseen Syed Ali      Low  Completed  True   \n",
       "\n",
       "                                  Ameyo Recording URL Call Type   \n",
       "1   https://prypto-api.aswat.co/surveillance/recor...  Outbound  \\\n",
       "2   https://prypto-api.aswat.co/surveillance/recor...  Outbound   \n",
       "6   https://prypto-api.aswat.co/surveillance/recor...  Outbound   \n",
       "11  https://prypto-api.aswat.co/surveillance/recor...  Outbound   \n",
       "13  https://prypto-api.aswat.co/surveillance/recor...  Outbound   \n",
       "\n",
       "    CallDurationInSeconds  \n",
       "1                     422  \n",
       "2                     237  \n",
       "6                      74  \n",
       "11                    481  \n",
       "13                    269  "
      ]
     },
     "execution_count": 7,
     "metadata": {},
     "output_type": "execute_result"
    }
   ],
   "source": [
    "excel_path = \"/mnt/e/Personal/Samarth/repository/NLP-Basic2Advanced/DMAC_project/data/Data_Mortgage.xlsx\"\n",
    "excel_data = pd.read_excel(excel_path)\n",
    "excel_data.dropna(subset='Opportunity',inplace=True)\n",
    "excel_data.head()"
   ]
  },
  {
   "cell_type": "code",
   "execution_count": 8,
   "metadata": {},
   "outputs": [],
   "source": [
    "def download_recording(data):\n",
    "    url_link = data['Ameyo Recording URL']\n",
    "    account_name = data['Company / Account']\n",
    "    assigned_name = data['Assigned']\n",
    "    os.system('wget {} {}'.format(url_link,'audio_{}_{}.mp3'.format(account_name,assigned_name)))\n",
    "    return \n",
    "# excel_data.apply(lambda x: download_recording(x),axis=1)"
   ]
  },
  {
   "cell_type": "code",
   "execution_count": 9,
   "metadata": {},
   "outputs": [
    {
     "name": "stdout",
     "output_type": "stream",
     "text": [
      "Models loaded into memory -- 5.53sec\n"
     ]
    }
   ],
   "source": [
    "# Loading the Whisper model into Device \n",
    "if torch.cuda.is_available():\n",
    "    device = 'cuda'\n",
    "else:\n",
    "    device = 'cpu'\n",
    "\n",
    "whisper_model_name = 'small' # hyperparameter -- Improving this will improve info \n",
    "stime = time.time()\n",
    "wisper_model = whisper.load_model(whisper_model_name,device=device)\n",
    "# emotion_classifier = pipeline(\"text-classification\",model='bhadresh-savani/distilbert-base-uncased-emotion')\n",
    "print(\"Models loaded into memory -- {:.2f}sec\".format(time.time()-stime))"
   ]
  },
  {
   "cell_type": "code",
   "execution_count": 10,
   "metadata": {},
   "outputs": [
    {
     "name": "stdout",
     "output_type": "stream",
     "text": [
      "Total number of audio files found :  309\n"
     ]
    }
   ],
   "source": [
    "data_path = '../data/Audio'\n",
    "audio_files = [fname for fname in os.listdir(data_path) if fname.endswith(('mp3','wav'))]\n",
    "print(\"Total number of audio files found : \",len(audio_files))"
   ]
  },
  {
   "attachments": {},
   "cell_type": "markdown",
   "metadata": {},
   "source": [
    "### Conversion from Speech to text with traslation and emotion Detection\n",
    "\n",
    "The below functions load the audio file with Sampling rate of 16000 hz/s. We clip the audio file to 30 seconds to get the language of the conversation. If the language is not EN we translate and save the info in dict file else we simply translate . "
   ]
  },
  {
   "cell_type": "code",
   "execution_count": 11,
   "metadata": {},
   "outputs": [],
   "source": [
    "conversation_dict = OrderedDict()"
   ]
  },
  {
   "attachments": {},
   "cell_type": "markdown",
   "metadata": {},
   "source": [
    "#### Get Sentiment analysis From VADER\n",
    "\n",
    "This will be saved as metadata for analyzing the sentiment of the person talking"
   ]
  },
  {
   "cell_type": "code",
   "execution_count": 12,
   "metadata": {},
   "outputs": [],
   "source": [
    "# Sentiment Analyzer \n",
    "import nltk \n",
    "from nltk.sentiment.vader import SentimentIntensityAnalyzer\n",
    "sia=SentimentIntensityAnalyzer()\n",
    "\n",
    "def get_sentiment(text_result):\n",
    "    emotion = None \n",
    "    if sia.polarity_scores(text_result)['compound']>0:\n",
    "        emotion = 'Positive'\n",
    "    elif sia.polarity_scores(text_result)['compound']<0:\n",
    "        emotion = 'Negative'\n",
    "    else :\n",
    "        emotion = 'Neutral '\n",
    "    return emotion"
   ]
  },
  {
   "cell_type": "code",
   "execution_count": null,
   "metadata": {},
   "outputs": [],
   "source": [
    "def get_language(audio,duration=30):\n",
    "    clip_audio = whisper.pad_or_trim(audio,length=SAMPLE_RATE*duration)\n",
    "    result = wisper_model.transcribe(clip_audio)\n",
    "    return result['language']\n",
    "\n",
    "def speech2text(audio_file,meta_info=[]):\n",
    "    audio = whisper.load_audio(audio_file)\n",
    "    audio_language = get_language(audio)\n",
    "    if meta_info is None:\n",
    "        meta_info = ['','']\n",
    "    if audio_language =='en':\n",
    "        result = wisper_model.transcribe(audio)\n",
    "    else:\n",
    "        print(\"Spoken Language is not english.  Translating {} to english\".format(audio_language))\n",
    "        # result = wisper_model.transcribe(audio, task='translate')\n",
    "        return \n",
    "    \n",
    "    result = wisper_model.transcribe(audio_file)\n",
    "\n",
    "    return {\n",
    "            'filename':os.path.basename(audio_file),\n",
    "            'content':{\n",
    "                'text':result['text'],\n",
    "                'language':audio_language,\n",
    "                'Customer':meta_info[0],\n",
    "                'Assigned': meta_info[1],\n",
    "                'properties':{\n",
    "                    'segments':len(result['segments']),\n",
    "                    'audio_duration':audio.shape[0]/SAMPLE_RATE,\n",
    "                    }\n",
    "                }\n",
    "            }"
   ]
  },
  {
   "cell_type": "code",
   "execution_count": null,
   "metadata": {},
   "outputs": [],
   "source": [
    "from tqdm import tqdm\n",
    "conversation_dict['Data'] = list()\n",
    "for fname in tqdm(audio_files):\n",
    "    file_path = os.path.join(data_path,fname)\n",
    "    meta_information = excel_data[['Opportunity','Assigned']][excel_data['Ameyo Recording URL'].str.contains(fname)].values.tolist()[0]\n",
    "    conversation_dict['Data'].append(speech2text(audio_file=file_path,meta_info=meta_information))\n",
    "    break\n",
    "\n",
    "# with open(\"../data/Audio_data.json\", \"w\") as outfile:\n",
    "#     json.dump(conversation_dict, outfile,indent=4)"
   ]
  },
  {
   "cell_type": "code",
   "execution_count": 15,
   "metadata": {},
   "outputs": [],
   "source": [
    "with open(\"../data/Audio_data.json\", \"w\") as outfile:\n",
    "    json.dump(conversation_dict, outfile,indent=4)"
   ]
  },
  {
   "attachments": {},
   "cell_type": "markdown",
   "metadata": {},
   "source": [
    "### Asking Chat gpt to make some conversations "
   ]
  },
  {
   "attachments": {},
   "cell_type": "markdown",
   "metadata": {},
   "source": [
    "#### Load the Conversations as Json Loader "
   ]
  },
  {
   "cell_type": "code",
   "execution_count": 8,
   "metadata": {},
   "outputs": [],
   "source": [
    "\n",
    "# with open(\"../data/Audio_data.json\" ,'r') as fd:\n",
    "#     data = json.load(fd)\n",
    "\n",
    "# for content in data['Data']:\n",
    "#     content['content']['text'] = \"{} is assigned to customer {}. Conversation:{}\".format(content['content']['Assigned'],content['content']['Customer'],content['content']['text'])\n",
    "\n",
    "# with open(\"../data/Audio_data_modified.json\", \"w\") as outfile:\n",
    "#     json.dump(data, outfile,indent=4)"
   ]
  },
  {
   "cell_type": "code",
   "execution_count": 24,
   "metadata": {},
   "outputs": [],
   "source": [
    "from langchain.document_loaders import JSONLoader\n",
    "from langchain.text_splitter import CharacterTextSplitter\n",
    "\n",
    "def metadata_func(record: dict, metadata: dict) -> dict:\n",
    "    metadata[\"language\"] = record.get(\"language\")\n",
    "    metadata[\"audio_properties\"] = record.get(\"properties\")\n",
    "    metadata[\"Customer\"] = record.get(\"Customer\")\n",
    "    metadata[\"Assigned\"] = record.get(\"Assigned\")\n",
    "    return metadata\n",
    "\n",
    "loader = JSONLoader(\n",
    "    file_path='../data/Audio_data_modified.json',\n",
    "    jq_schema='.Data[].content',\n",
    "    content_key=\"text\",\n",
    "    metadata_func=metadata_func\n",
    ")"
   ]
  },
  {
   "cell_type": "code",
   "execution_count": 25,
   "metadata": {},
   "outputs": [
    {
     "data": {
      "text/plain": [
       "[Document(page_content=\"Juraira Manzoor is assigned to customer Dina Mariam. Conversation: Hello. Hello, good afternoon. Yes. Am I speaking to Ms. Deena? Deena Mariam. Yes, correct. I am Juradu calling you from Fripco Services. How are you doing today? So, what are you doing? Fripco Services. Regarding your enquiry for the mod gauge, I believe you are looking to buy one studio or one bedroom apartment. And you are... Yes, correct. Yeah, I have received an enquiry from AX properties from Ms. Jamal. Yes, yes. Mr. Jamal, sorry. Yes. Yeah, so Ms. Deena, I have to ask you a few questions so that I can have your profile and we can take your case forward. Yeah, you are a resident of Dubai, right? Yes. May I know how old are you? 25. 25. Yes. Okay. All right. Are you salaried or self-employed? Both. Salaried and self-employed. So, but I believe it's easier to get a mortgage as salary. So, let's say salary. You can get it as a self-employed as well, but it depends upon what is the turnover of the company, how long is the business in UAE plus, what is the balance maintained from last six months in the count. On that basis, you get as a self-employed as well. So, if we put salary, how much is the salary? 20. 20. Yeah, I will put 20 and additional income as well because you might have... Yeah. Yeah. Okay. All right. How long have you been working with this company? Almost five years. Almost five years. Okay. Any liabilities you have, Carlo and Credit Cards? I have Carlo and I do have few credit cards. Carlo is how much? I mean, what is the EMI monthly? 3.7 thousand. 3.7 thousand. Okay. And what is the limit you have taken on Credit Cards? I have one which has the limit of 20 and the limit of 40. 40. That is... that's it. You have only two Credit Cards. Yeah. Actives, two. Okay. All right. That's it. No personal loan. No. Okay. May I know which passport you hold? Russian. Sorry? Russian. Russian. Russian. Okay. Okay. So the property which you're planning to buy, it's ready to move in, right? Yeah. Okay. What is the price range you're looking at? One million. One million. And this is going to be the first property in UAE, right? Yeah. Correct. Okay. All right. So Miss Dina, that's pretty much it. I will forward your details to my mortgage advisors. They will give you a call maybe today or tomorrow morning or on Monday. They will take your case forward. They will ask you for certain documents and then give you the choice of going with which bank you are preferring to. And that's it. We will get the pre-approval from the bank. Yeah? Perfect. Okay. Miss Dina, thank you so much for your time. Have a lovely day. Enjoy your weekend. Thank you. It feels nice. Bye.\", metadata={'source': '/mnt/e/Personal/Samarth/repository/NLP-Basic2Advanced/DMAC_project/data/Audio_data_modified.json', 'seq_num': 1, 'language': 'en', 'audio_properties': {'segments': 53, 'audio_duration': 211.104}, 'Customer': 'Dina Mariam', 'Assigned': 'Juraira Manzoor'}),\n",
       " Document(page_content=\"Yaseen Syed Ali is assigned to customer Laiq Ur Rehman. Conversation: Hello. Hello. Hiya. Hi, good evening Mr. Likur Rehman. Yes, yes this is, yes. We are seeing calling from Pripko, how are you doing today? Good, thank you. What company are you calling from? Pripko, I am calling you in regards to the mortgage assistance. As we referred your details from Daria. Okay, yeah. From that you are planning to purchase the property in UAE and you are looking for mortgage assistance? Yes, yes I am actually, yeah. So wonderful. I am just calling to get some information like a basic details to understand the qualification. Then I can put you across with one of the mortgage advisor who will be helping you to get the detailed information about the mortgage values and interest rate, everything. So I like to know. Can I speak to them? I have a business here and I am really strapped for time. So I can give you some basic information. Can you put me through to them and I will give you guys information at once. So I have got a business here and I am keen to invest some money in Dubai to buy a couple of properties, two or three. I am also just mortgage. The highest percentage I can get is better for me. So then that means instead of one I can get two, instead of two I can get four. Okay. So I am just going to ask you. I am really sorry to interrupt you. So I just need to get few basic information like the same what you are giving to me. I just wanted to get it separately separately. So as per the understanding you are a non resident in UAE and you are running a business which is self employed. No, it is not self employed. It is a limited company. Okay. But are you getting a salary or you are getting a percentage from a company? I am getting dividends. Dividend. Yeah. Okay. So the company is under whose name like since you said because I am not aware of this particular company which you are talking about. So can you just explain me little bit about it like how is it work? What do you mean? Because here in UAE there are two options either self employed or salary. So if you are not working as a salary person since you are under the company like you are running a business or as you mentioned something else. So I wanted to know like you are a partner of some company like you have three, four partners in one company something like that? No, no. I am the owner of the company. You are the owner of the company. Wonderful. So I like to know what is the turnover of your company? Approximately 200k. 200k. 200k pounds. Yeah. Yearly. Yeah. Okay. And how long you are running this business? It has been for the last six, seven years now. Seven years. Okay. Do you hold any liabilities in UAE or in London? No. Yes? No, no. No. Okay. And Meno your nationality please. What is the past current portfolio holding? Yeah. Okay. And the property which you are planning to purchase is ready to move in property or off plan? I am open for both and I am not decided yet. Sorry? I am not decided yet. It could be either. I am not decided yet. Because I just wanted to notify you something before going yet because if you are planning to go for off plan there is no option for you know foreigners like the non-resident in UAE. Only you can go for ready to move in property where you can get up to 50% of the mortgage value based on what is the property you are going for. Yeah. Okay. And what is the price you are expecting like approximately the property value? 1.4 million dirhams. Sorry? 1.4 million. 1.4 million dirhams. Yeah. Okay. And this will be your first property in UAE? Yeah. Okay. And one last thing is Mena your age please? It is 39. 39. Okay. And when you are planning to purchase this property you have any plans to come over here on any specific time frame? Or once you get the detail about mortgage then you will decide about it? I will not be moving there. But I will apply for golden visa at some point. Okay. So you are looking for golden visa as well? Yeah. Okay. Have you already applied or still you are looking for it because we can assist you in golden visa as well? I haven't started the process yet. Okay. Because the golden visa procedure is you should be having an investment of 2 million dirhams or more which is fully paid then you will be eligible for golden visa. Yeah. But I am not willing to do any investment until I know about mortgage. Okay. Okay. So right now since I got the complete information I will forward these details to one of the mortgage advisor who will be contacting you by tomorrow and they will help you in giving you more detailed information about what is the percentage you are going to get, what will be the EMI, all the detailed information then you can decide what is the next step has to be taken whether you like to process or not. Up to that. Yeah. Yeah. Okay. Great. Anything else I may help you with sir? No. That's it. Thank you. Thank you Mr. LaRica Rehman. Thank you for your time. Have a good day. Thank you. Thank you. Bye.\", metadata={'source': '/mnt/e/Personal/Samarth/repository/NLP-Basic2Advanced/DMAC_project/data/Audio_data_modified.json', 'seq_num': 2, 'language': 'en', 'audio_properties': {'segments': 128, 'audio_duration': 344.736}, 'Customer': 'Laiq Ur Rehman', 'Assigned': 'Yaseen Syed Ali'}),\n",
       " Document(page_content=\"Harvinder Singh is assigned to customer Alexander A. Conversation: Hello, good morning sir. This is a visitor calling from Pripko Services. Are you free now sir? Yes, I'm free. So I just need some few details. Like are you resident in UAE or non-resident? I'm resident yes. Okay may I know what's your age sir? Age? 56. 46. Okay. And may I know like are you self-right or are you self-employed? Am I what? Like you have your own company or are you working for a company? No, salary. Salary. Okay how much salary? 75 for a month. 75 for a month? Okay and since how long you're working in the same company? April 2022. April 2022. Wait a second. Yeah. I'm connecting to my... No, no working. Okay. April 2020. More than a year we can say. Yeah, more than a year. Okay. And may I know like how many credit cards do you have? None. None. None. Any personal loan? Auto loan? No. Oh that's good. Okay may I know your personality? Pardon? Nesnality, Nesnality. Russian Federation. Russian. Yes. Okay are you looking for ready to move in or are you looking for off plan? Are you real estate agent? No. No. The mortgage from the mortgage. Yeah I already found the... You already found it. So it's off plan or it's ready to move in? Ready to move in. That's good. Okay. Because for the off plan the construction should be done more than 50% then only we give the mortgage. That's the reason I asked you. No, no, no ready to move in here. Second remark. That's good. Okay. And may I know like how much loan you're looking for? 3 million. 3 million. Okay. And this is going to be your first property in UAE or second? No, first one. First one. Okay. So I've just taken down all your details sir. I will just send this details to the mortgage advisor. The mortgage advisor will give you a call and he will give you all the information on it. Okay. Very good. Thank you for your... Thank you so much. Have a nice day. Bye. Bye.\", metadata={'source': '/mnt/e/Personal/Samarth/repository/NLP-Basic2Advanced/DMAC_project/data/Audio_data_modified.json', 'seq_num': 3, 'language': 'en', 'audio_properties': {'segments': 72, 'audio_duration': 166.032}, 'Customer': 'Alexander A', 'Assigned': 'Harvinder Singh'}),\n",
       " Document(page_content=\"Harvinder Singh is assigned to customer Monika Slyšková. Conversation: Hello. Hello. Good afternoon ma'am. My name is Sarvinder and I'm calling from FRIPPCO Services. Ma'am, how are you? Hi, good afternoon. I'm good. Thank you. But it needs to be regarded too. Ma'am, I believe you have done an inquiry to cast the mortgage. Are you looking for a mortgage services? Yes. Yeah. I just need some few details to check your eligibility, ma'am. Okay. Are you residence in UE or non-residence? I am residence. You're residence. Okay. Just give me a moment. Yes. Okay. And you know what's your age? 35. 35. Okay. And are you sell right or you have your own company? No, I'm employed. Okay. And you know, like how much is salary? I'm happy to meet in person if that's okay. Like you want to meet in person? I'd rather meet in person than talk about this on the phone. No worries. So what I will do, I will directly assign to the mortgage advisor and I will tell him to fix a meeting with you. Okay. Thank you so much. Thank you very much. Thank you. Thank you. Thank you.\", metadata={'source': '/mnt/e/Personal/Samarth/repository/NLP-Basic2Advanced/DMAC_project/data/Audio_data_modified.json', 'seq_num': 4, 'language': 'en', 'audio_properties': {'segments': 42, 'audio_duration': 80.712}, 'Customer': 'Monika Slyšková', 'Assigned': 'Harvinder Singh'})]"
      ]
     },
     "execution_count": 25,
     "metadata": {},
     "output_type": "execute_result"
    }
   ],
   "source": [
    "conversation = loader.load()\n",
    "conversation[:4]"
   ]
  },
  {
   "cell_type": "code",
   "execution_count": 26,
   "metadata": {},
   "outputs": [],
   "source": [
    "text_splitter = CharacterTextSplitter(chunk_size=500,chunk_overlap=0) # hyperparameters \n",
    "texts = text_splitter.split_documents(documents=conversation)  # metadatas=[doc.metadata for doc in docs]\n"
   ]
  },
  {
   "cell_type": "code",
   "execution_count": 27,
   "metadata": {},
   "outputs": [
    {
     "name": "stdout",
     "output_type": "stream",
     "text": [
      "Total texts documents  60\n",
      "<class 'list'> <class 'langchain.schema.Document'>\n"
     ]
    }
   ],
   "source": [
    "print(\"Total texts documents \",len(texts))\n",
    "print(type(texts),type(texts[0]))"
   ]
  },
  {
   "attachments": {},
   "cell_type": "markdown",
   "metadata": {},
   "source": [
    "### Conversation data into Embedddings "
   ]
  },
  {
   "cell_type": "code",
   "execution_count": 28,
   "metadata": {},
   "outputs": [],
   "source": [
    "from langchain.embeddings.base import Embeddings\n",
    "from typing import List\n",
    "from sentence_transformers import SentenceTransformer\n",
    "from langchain.embeddings.openai import OpenAIEmbeddings\n",
    "\n",
    "import openai\n",
    "import os \n",
    "os.environ['OPENAI_API_KEY'] = \"\" \n",
    "\n",
    "class LocalHuggingFaceEmbeddings(Embeddings):\n",
    "    def __init__(self, model_id): \n",
    "        # Should use the GPU by default\n",
    "        self.model = SentenceTransformer(model_id)\n",
    "        \n",
    "    def embed_documents(self, texts: List[str]) -> List[List[float]]:\n",
    "        \"\"\"Embed a list of documents using a locally running\n",
    "           Hugging Face Sentence Transformer model\n",
    "        Args:\n",
    "            texts: The list of texts to embed.\n",
    "        Returns:\n",
    "            List of embeddings, one for each text.\n",
    "        \"\"\"\n",
    "        embeddings =self.model.encode(texts)\n",
    "        return embeddings\n",
    "\n",
    "    def embed_query(self, text: str) -> List[float]:\n",
    "        \"\"\"Embed a query using a locally running HF \n",
    "        Sentence trnsformer. \n",
    "        Args:\n",
    "            text: The text to embed.\n",
    "        Returns:\n",
    "            Embeddings for the text.\n",
    "        \"\"\"\n",
    "        embedding = self.model.encode(text)\n",
    "        return list(map(float, embedding))\n",
    "\n",
    "local_embeddings = LocalHuggingFaceEmbeddings('multi-qa-mpnet-base-dot-v1')\n",
    "open_ai_embeddings = OpenAIEmbeddings()"
   ]
  },
  {
   "cell_type": "code",
   "execution_count": 29,
   "metadata": {},
   "outputs": [],
   "source": [
    "from langchain.vectorstores import FAISS\n",
    "vectorstore =  FAISS.from_documents(documents=texts,\n",
    "                                    embedding = open_ai_embeddings\n",
    "                                    ) # turn dcos into Vectors and store them in RAM also add metadata \n",
    "vectorstore.save_local('../data/faiss_dmac_conv')"
   ]
  },
  {
   "attachments": {},
   "cell_type": "markdown",
   "metadata": {},
   "source": [
    "## Retrival QA\n",
    "Better version of Query \n",
    "\n",
    "###  underneath the hood \n",
    "- Underneath the hood is taking our query that we're going which is send to embed.\n",
    "- Its turned into a vector, send it into device vector store.\n",
    "- Then it's going to find similar vectors to that vector and it's going to bring those vectors back.\n",
    "- Translate them into the text and we're going to send this as the context exactly like the vector chain, but with a bit of different parameters, but nothing very different here."
   ]
  },
  {
   "cell_type": "code",
   "execution_count": 30,
   "metadata": {},
   "outputs": [],
   "source": [
    "from langchain.chains import RetrievalQA ,VectorDBQAWithSourcesChain ,RetrievalQAWithSourcesChain\n",
    "from langchain.prompts import PromptTemplate\n",
    "from langchain.llms import OpenAI\n",
    "\n",
    "new_vector_store = FAISS.load_local(\"../data/faiss_dmac_conv/\",embeddings=open_ai_embeddings)"
   ]
  },
  {
   "attachments": {},
   "cell_type": "markdown",
   "metadata": {},
   "source": [
    "### QA Retrival Chain to Answer specific questions "
   ]
  },
  {
   "cell_type": "code",
   "execution_count": 31,
   "metadata": {},
   "outputs": [],
   "source": [
    "prompt_template = \"\"\"\n",
    "Analyze conversations between customer and sales person. \n",
    "Use the context to answer.If question is related to customers , answer in points with names of the customers.\n",
    "If you don't know the answer, just say No idea.\n",
    "\n",
    "{context}\n",
    "\n",
    "Question: {question}\n",
    "Answer in Points: \n",
    "\"\"\"\n",
    "\n",
    "prompt = PromptTemplate(input_variables=[\"context\",\"question\"],template=prompt_template)"
   ]
  },
  {
   "cell_type": "code",
   "execution_count": 32,
   "metadata": {},
   "outputs": [],
   "source": [
    "chain_type_kwargs = {\"prompt\": prompt}\n",
    "\n",
    "qa = RetrievalQA.from_chain_type(\n",
    "                        llm=OpenAI(temperature=0),\n",
    "                        chain_type=\"stuff\",\n",
    "                        retriever = new_vector_store.as_retriever(),\n",
    "                        chain_type_kwargs=chain_type_kwargs\n",
    "                        )"
   ]
  },
  {
   "cell_type": "code",
   "execution_count": 44,
   "metadata": {},
   "outputs": [
    {
     "name": "stdout",
     "output_type": "stream",
     "text": [
      "query:What product Faraht Khan is interested in ?\n",
      "response:\n",
      "Farhat Khan is interested in the Golden Giza product. He needs to have a property value of two million or more and must be fully paid off. He also needs to have the property be at least 50% complete if it is off plan.\n"
     ]
    }
   ],
   "source": [
    "query = \"What product Faraht Khan is interested in ?\"\n",
    "res = qa.run(query)\n",
    "print(\"query:{}\".format(query))\n",
    "print(\"response:\\n{}\".format(res))\n"
   ]
  },
  {
   "cell_type": "code",
   "execution_count": 45,
   "metadata": {},
   "outputs": [
    {
     "name": "stdout",
     "output_type": "stream",
     "text": [
      "query:What is next action with Faraht Khan ?\n",
      "response:\n",
      "1. Confirm that Faraht Khan is eligible for the Golden Giza. \n",
      "2. Ask Faraht Khan to provide documents via email. \n",
      "3. Ask Faraht Khan to pay an initial payment of 2,000. \n",
      "4. Ask Faraht Khan to be in Dubai for two weeks for medical checkup and biometric.\n"
     ]
    }
   ],
   "source": [
    "query = \"What is next action with Faraht Khan ?\"\n",
    "res = qa.run(query)\n",
    "print(\"query:{}\".format(query))\n",
    "print(\"response:\\n{}\".format(res))"
   ]
  },
  {
   "cell_type": "code",
   "execution_count": 37,
   "metadata": {},
   "outputs": [
    {
     "name": "stdout",
     "output_type": "stream",
     "text": [
      "query:Customers whos' unit price is more than 1.6 million \n",
      "response:\n",
      "- Sakar Bhasin: Property cost two million dirhams \n",
      "- Rimantas Macevicius: Property cost two million euros \n",
      "- Iness Ouichaoui: Original mortgage value was 750,000 \n",
      "- Farhat Khan: Property bill needs to be two million and above\n"
     ]
    }
   ],
   "source": [
    "query = \"Customers whos' unit price is more than 1.6 million \"\n",
    "res = qa.run(query)\n",
    "print(\"query:{}\".format(query))\n",
    "print(\"response:\\n{}\".format(res))\n"
   ]
  },
  {
   "cell_type": "code",
   "execution_count": 42,
   "metadata": {},
   "outputs": [
    {
     "name": "stdout",
     "output_type": "stream",
     "text": [
      "query:Summarize conversations with Farhat Khan \n",
      "response:\n",
      "- Farhat Khan is looking for Golden Giza services from Pripko Moagy Services. \n",
      "- The criteria for eligibility is that the property value should be two million or above and it should be fully paid. \n",
      "- If the property is off plan, it should be at least 50% ready. \n",
      "- The cost of the services is around 16,500, with a government fee of 8,000 to 10,000. \n",
      "- The initial payment is 2,000 and Farhat Khan needs to be in Dubai for two weeks for the medical checkup and biometric.\n"
     ]
    }
   ],
   "source": [
    "query = \"Summarize conversations with Farhat Khan\"\n",
    "res = qa.run(query)\n",
    "print(\"query:{}\".format(query))\n",
    "print(\"response:\\n{}\".format(res))"
   ]
  },
  {
   "cell_type": "code",
   "execution_count": 43,
   "metadata": {},
   "outputs": [
    {
     "name": "stdout",
     "output_type": "stream",
     "text": [
      "query:For Faraht khan any follow up leads\n",
      "response:\n",
      "- Follow up leads for Faraht Khan include: \n",
      "- Contacting Michael Lee from the Visa Department for more information on government fees \n",
      "- Initial payment of 2,000 \n",
      "- Emailing documents to TLD department \n",
      "- Being in Dubai for two weeks for medical checkup and biometric\n"
     ]
    }
   ],
   "source": [
    "query = \"For Faraht khan any follow up leads\"\n",
    "res = qa.run(query)\n",
    "print(\"query:{}\".format(query))\n",
    "print(\"response:\\n{}\".format(res))\n"
   ]
  },
  {
   "cell_type": "code",
   "execution_count": null,
   "metadata": {},
   "outputs": [],
   "source": []
  }
 ],
 "metadata": {
  "kernelspec": {
   "display_name": "pylangchain",
   "language": "python",
   "name": "python3"
  },
  "language_info": {
   "codemirror_mode": {
    "name": "ipython",
    "version": 3
   },
   "file_extension": ".py",
   "mimetype": "text/x-python",
   "name": "python",
   "nbconvert_exporter": "python",
   "pygments_lexer": "ipython3",
   "version": "3.10.11"
  },
  "orig_nbformat": 4
 },
 "nbformat": 4,
 "nbformat_minor": 2
}
