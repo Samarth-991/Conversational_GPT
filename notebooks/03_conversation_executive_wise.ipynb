{
 "cells": [
  {
   "cell_type": "code",
   "execution_count": 2,
   "metadata": {},
   "outputs": [],
   "source": [
    "import os \n",
    "import sys\n",
    "import json \n",
    "import pandas as pd \n",
    "import re\n",
    "\n",
    "from langchain.document_loaders import JSONLoader,TextLoader\n",
    "from langchain.text_splitter import CharacterTextSplitter\n",
    "\n",
    "os.environ['OPENAI_API_KEY'] = \"\""
   ]
  },
  {
   "attachments": {},
   "cell_type": "markdown",
   "metadata": {},
   "source": [
    "### Data Mortgage "
   ]
  },
  {
   "cell_type": "code",
   "execution_count": 3,
   "metadata": {},
   "outputs": [
    {
     "data": {
      "text/html": [
       "<div>\n",
       "<style scoped>\n",
       "    .dataframe tbody tr th:only-of-type {\n",
       "        vertical-align: middle;\n",
       "    }\n",
       "\n",
       "    .dataframe tbody tr th {\n",
       "        vertical-align: top;\n",
       "    }\n",
       "\n",
       "    .dataframe thead th {\n",
       "        text-align: right;\n",
       "    }\n",
       "</style>\n",
       "<table border=\"1\" class=\"dataframe\">\n",
       "  <thead>\n",
       "    <tr style=\"text-align: right;\">\n",
       "      <th></th>\n",
       "      <th>Date</th>\n",
       "      <th>Company / Account</th>\n",
       "      <th>Opportunity</th>\n",
       "      <th>Unnamed: 3</th>\n",
       "      <th>Lead</th>\n",
       "      <th>Assigned</th>\n",
       "      <th>Priority</th>\n",
       "      <th>Status</th>\n",
       "      <th>Task</th>\n",
       "      <th>Ameyo Recording URL</th>\n",
       "      <th>Call Type</th>\n",
       "      <th>CallDurationInSeconds</th>\n",
       "    </tr>\n",
       "  </thead>\n",
       "  <tbody>\n",
       "    <tr>\n",
       "      <th>1</th>\n",
       "      <td>4/4/2023</td>\n",
       "      <td>Mohammed Jaffer</td>\n",
       "      <td>Mohammed Jaffer</td>\n",
       "      <td>Mohammed Jaffer</td>\n",
       "      <td>NaN</td>\n",
       "      <td>Yaseen Syed Ali</td>\n",
       "      <td>Low</td>\n",
       "      <td>Completed</td>\n",
       "      <td>True</td>\n",
       "      <td>https://prypto-api.aswat.co/surveillance/recor...</td>\n",
       "      <td>Outbound</td>\n",
       "      <td>422</td>\n",
       "    </tr>\n",
       "    <tr>\n",
       "      <th>2</th>\n",
       "      <td>4/4/2023</td>\n",
       "      <td>G Abbas</td>\n",
       "      <td>G Abbas</td>\n",
       "      <td>G Abbas</td>\n",
       "      <td>NaN</td>\n",
       "      <td>Yaseen Syed Ali</td>\n",
       "      <td>Low</td>\n",
       "      <td>Completed</td>\n",
       "      <td>True</td>\n",
       "      <td>https://prypto-api.aswat.co/surveillance/recor...</td>\n",
       "      <td>Outbound</td>\n",
       "      <td>237</td>\n",
       "    </tr>\n",
       "    <tr>\n",
       "      <th>6</th>\n",
       "      <td>4/4/2023</td>\n",
       "      <td>Ahsan Khan</td>\n",
       "      <td>Ahsan Khan</td>\n",
       "      <td>Ahsan Khan</td>\n",
       "      <td>NaN</td>\n",
       "      <td>Yaseen Syed Ali</td>\n",
       "      <td>Low</td>\n",
       "      <td>Completed</td>\n",
       "      <td>True</td>\n",
       "      <td>https://prypto-api.aswat.co/surveillance/recor...</td>\n",
       "      <td>Outbound</td>\n",
       "      <td>74</td>\n",
       "    </tr>\n",
       "    <tr>\n",
       "      <th>11</th>\n",
       "      <td>4/5/2023</td>\n",
       "      <td>Fayiqa Iftikhar</td>\n",
       "      <td>Fayiqa Iftikhar</td>\n",
       "      <td>Fayiqa Iftikhar</td>\n",
       "      <td>NaN</td>\n",
       "      <td>Yaseen Syed Ali</td>\n",
       "      <td>Low</td>\n",
       "      <td>Completed</td>\n",
       "      <td>True</td>\n",
       "      <td>https://prypto-api.aswat.co/surveillance/recor...</td>\n",
       "      <td>Outbound</td>\n",
       "      <td>481</td>\n",
       "    </tr>\n",
       "    <tr>\n",
       "      <th>13</th>\n",
       "      <td>4/5/2023</td>\n",
       "      <td>Smith Suresh Shetty</td>\n",
       "      <td>Smith Suresh Shetty</td>\n",
       "      <td>Smith Suresh Shetty</td>\n",
       "      <td>NaN</td>\n",
       "      <td>Yaseen Syed Ali</td>\n",
       "      <td>Low</td>\n",
       "      <td>Completed</td>\n",
       "      <td>True</td>\n",
       "      <td>https://prypto-api.aswat.co/surveillance/recor...</td>\n",
       "      <td>Outbound</td>\n",
       "      <td>269</td>\n",
       "    </tr>\n",
       "  </tbody>\n",
       "</table>\n",
       "</div>"
      ],
      "text/plain": [
       "        Date    Company / Account          Opportunity           Unnamed: 3   \n",
       "1   4/4/2023      Mohammed Jaffer      Mohammed Jaffer      Mohammed Jaffer  \\\n",
       "2   4/4/2023              G Abbas              G Abbas              G Abbas   \n",
       "6   4/4/2023           Ahsan Khan           Ahsan Khan           Ahsan Khan   \n",
       "11  4/5/2023      Fayiqa Iftikhar      Fayiqa Iftikhar      Fayiqa Iftikhar   \n",
       "13  4/5/2023  Smith Suresh Shetty  Smith Suresh Shetty  Smith Suresh Shetty   \n",
       "\n",
       "   Lead         Assigned Priority     Status  Task   \n",
       "1   NaN  Yaseen Syed Ali      Low  Completed  True  \\\n",
       "2   NaN  Yaseen Syed Ali      Low  Completed  True   \n",
       "6   NaN  Yaseen Syed Ali      Low  Completed  True   \n",
       "11  NaN  Yaseen Syed Ali      Low  Completed  True   \n",
       "13  NaN  Yaseen Syed Ali      Low  Completed  True   \n",
       "\n",
       "                                  Ameyo Recording URL Call Type   \n",
       "1   https://prypto-api.aswat.co/surveillance/recor...  Outbound  \\\n",
       "2   https://prypto-api.aswat.co/surveillance/recor...  Outbound   \n",
       "6   https://prypto-api.aswat.co/surveillance/recor...  Outbound   \n",
       "11  https://prypto-api.aswat.co/surveillance/recor...  Outbound   \n",
       "13  https://prypto-api.aswat.co/surveillance/recor...  Outbound   \n",
       "\n",
       "    CallDurationInSeconds  \n",
       "1                     422  \n",
       "2                     237  \n",
       "6                      74  \n",
       "11                    481  \n",
       "13                    269  "
      ]
     },
     "execution_count": 3,
     "metadata": {},
     "output_type": "execute_result"
    }
   ],
   "source": [
    "excel_path = \"..//data/Data_Mortgage.xlsx\"\n",
    "excel_data = pd.read_excel(excel_path)\n",
    "excel_data.dropna(subset='Opportunity',inplace=True)\n",
    "excel_data.head()"
   ]
  },
  {
   "cell_type": "code",
   "execution_count": 4,
   "metadata": {},
   "outputs": [],
   "source": [
    "### Read The Json data of recordings\n",
    "data_path = \"../data/Processed_data/Audio_data.json\"\n",
    "with open(data_path,'r+') as fd:\n",
    "    audio_data = json.load(fd)\n",
    "fd.close()"
   ]
  },
  {
   "attachments": {},
   "cell_type": "markdown",
   "metadata": {},
   "source": [
    "### Extract all the records for Sales Executive\n",
    "\n",
    "For example : ABC had converastions with multiple customers so giving this record to data Loader "
   ]
  },
  {
   "cell_type": "code",
   "execution_count": 5,
   "metadata": {},
   "outputs": [
    {
     "name": "stdout",
     "output_type": "stream",
     "text": [
      "(59, 12)\n"
     ]
    },
    {
     "data": {
      "text/html": [
       "<div>\n",
       "<style scoped>\n",
       "    .dataframe tbody tr th:only-of-type {\n",
       "        vertical-align: middle;\n",
       "    }\n",
       "\n",
       "    .dataframe tbody tr th {\n",
       "        vertical-align: top;\n",
       "    }\n",
       "\n",
       "    .dataframe thead th {\n",
       "        text-align: right;\n",
       "    }\n",
       "</style>\n",
       "<table border=\"1\" class=\"dataframe\">\n",
       "  <thead>\n",
       "    <tr style=\"text-align: right;\">\n",
       "      <th></th>\n",
       "      <th>Date</th>\n",
       "      <th>Company / Account</th>\n",
       "      <th>Opportunity</th>\n",
       "      <th>Unnamed: 3</th>\n",
       "      <th>Lead</th>\n",
       "      <th>Assigned</th>\n",
       "      <th>Priority</th>\n",
       "      <th>Status</th>\n",
       "      <th>Task</th>\n",
       "      <th>Ameyo Recording URL</th>\n",
       "      <th>Call Type</th>\n",
       "      <th>CallDurationInSeconds</th>\n",
       "    </tr>\n",
       "  </thead>\n",
       "  <tbody>\n",
       "    <tr>\n",
       "      <th>452</th>\n",
       "      <td>5/3/2023</td>\n",
       "      <td>Hassan .</td>\n",
       "      <td>Hassan .</td>\n",
       "      <td>Hassan .</td>\n",
       "      <td>NaN</td>\n",
       "      <td>Juraira Manzoor</td>\n",
       "      <td>Low</td>\n",
       "      <td>Completed</td>\n",
       "      <td>True</td>\n",
       "      <td>https://prypto-api.aswat.co/surveillance/recor...</td>\n",
       "      <td>Outbound</td>\n",
       "      <td>193</td>\n",
       "    </tr>\n",
       "    <tr>\n",
       "      <th>453</th>\n",
       "      <td>5/3/2023</td>\n",
       "      <td>Rimantas macevicius</td>\n",
       "      <td>Rimantas macevicius</td>\n",
       "      <td>Rimantas macevicius</td>\n",
       "      <td>NaN</td>\n",
       "      <td>Juraira Manzoor</td>\n",
       "      <td>Low</td>\n",
       "      <td>Completed</td>\n",
       "      <td>True</td>\n",
       "      <td>https://prypto-api.aswat.co/surveillance/recor...</td>\n",
       "      <td>Outbound</td>\n",
       "      <td>192</td>\n",
       "    </tr>\n",
       "    <tr>\n",
       "      <th>465</th>\n",
       "      <td>5/4/2023</td>\n",
       "      <td>Maryam Rasaei</td>\n",
       "      <td>Maryam Rasaei</td>\n",
       "      <td>Maryam Rasaei</td>\n",
       "      <td>NaN</td>\n",
       "      <td>Juraira Manzoor</td>\n",
       "      <td>Low</td>\n",
       "      <td>Completed</td>\n",
       "      <td>True</td>\n",
       "      <td>https://prypto-api.aswat.co/surveillance/recor...</td>\n",
       "      <td>Outbound</td>\n",
       "      <td>512</td>\n",
       "    </tr>\n",
       "    <tr>\n",
       "      <th>467</th>\n",
       "      <td>5/4/2023</td>\n",
       "      <td>Mohammed Larik</td>\n",
       "      <td>Mohammed Larik</td>\n",
       "      <td>Mohammed Larik</td>\n",
       "      <td>NaN</td>\n",
       "      <td>Juraira Manzoor</td>\n",
       "      <td>Low</td>\n",
       "      <td>Completed</td>\n",
       "      <td>True</td>\n",
       "      <td>https://prypto-api.aswat.co/surveillance/recor...</td>\n",
       "      <td>Outbound</td>\n",
       "      <td>536</td>\n",
       "    </tr>\n",
       "    <tr>\n",
       "      <th>469</th>\n",
       "      <td>5/4/2023</td>\n",
       "      <td>Ahmad B</td>\n",
       "      <td>Ahmad B</td>\n",
       "      <td>Ahmad B</td>\n",
       "      <td>NaN</td>\n",
       "      <td>Juraira Manzoor</td>\n",
       "      <td>Low</td>\n",
       "      <td>Completed</td>\n",
       "      <td>True</td>\n",
       "      <td>https://prypto-api.aswat.co/surveillance/recor...</td>\n",
       "      <td>Outbound</td>\n",
       "      <td>300</td>\n",
       "    </tr>\n",
       "  </tbody>\n",
       "</table>\n",
       "</div>"
      ],
      "text/plain": [
       "         Date    Company / Account          Opportunity           Unnamed: 3   \n",
       "452  5/3/2023             Hassan .             Hassan .             Hassan .  \\\n",
       "453  5/3/2023  Rimantas macevicius  Rimantas macevicius  Rimantas macevicius   \n",
       "465  5/4/2023        Maryam Rasaei        Maryam Rasaei        Maryam Rasaei   \n",
       "467  5/4/2023       Mohammed Larik       Mohammed Larik       Mohammed Larik   \n",
       "469  5/4/2023              Ahmad B              Ahmad B              Ahmad B   \n",
       "\n",
       "    Lead         Assigned Priority     Status  Task   \n",
       "452  NaN  Juraira Manzoor      Low  Completed  True  \\\n",
       "453  NaN  Juraira Manzoor      Low  Completed  True   \n",
       "465  NaN  Juraira Manzoor      Low  Completed  True   \n",
       "467  NaN  Juraira Manzoor      Low  Completed  True   \n",
       "469  NaN  Juraira Manzoor      Low  Completed  True   \n",
       "\n",
       "                                   Ameyo Recording URL Call Type   \n",
       "452  https://prypto-api.aswat.co/surveillance/recor...  Outbound  \\\n",
       "453  https://prypto-api.aswat.co/surveillance/recor...  Outbound   \n",
       "465  https://prypto-api.aswat.co/surveillance/recor...  Outbound   \n",
       "467  https://prypto-api.aswat.co/surveillance/recor...  Outbound   \n",
       "469  https://prypto-api.aswat.co/surveillance/recor...  Outbound   \n",
       "\n",
       "     CallDurationInSeconds  \n",
       "452                    193  \n",
       "453                    192  \n",
       "465                    512  \n",
       "467                    536  \n",
       "469                    300  "
      ]
     },
     "execution_count": 5,
     "metadata": {},
     "output_type": "execute_result"
    }
   ],
   "source": [
    "name_of_executive = 'Juraira Manzoor'\n",
    "df_executive = excel_data[excel_data['Assigned']==name_of_executive]\n",
    "print(df_executive.shape)\n",
    "df_executive.head()"
   ]
  },
  {
   "cell_type": "code",
   "execution_count": 10,
   "metadata": {},
   "outputs": [],
   "source": [
    "conversation_dict = dict()\n",
    "conversation_dict['data']=list()\n",
    "Conversation = []\n",
    "customers = []\n",
    "\n",
    "for records in audio_data['data']:\n",
    "    if records['relationship_manager'] == 'Jurara':\n",
    "        text = re.sub(\"\\s\\s+\", \" \", records['text'])\n",
    "        customer = records['customer']\n",
    "        text = \"conversation with Customer {}:{}\".format(customer,text)\n",
    "\n",
    "        conversation_dict['data'].append({\n",
    "                'name':name_of_executive,\n",
    "                'text':text,\n",
    "                'customer':records['customer'],\n",
    "                'language':records['language']\n",
    "            })\n",
    "\n",
    "conversation_dict\n",
    "\n",
    "with open('../data/tmp.json','w+') as fd:\n",
    "    json.dump(conversation_dict,fd)\n"
   ]
  },
  {
   "attachments": {},
   "cell_type": "markdown",
   "metadata": {},
   "source": [
    "### Load data as JsonLoader"
   ]
  },
  {
   "cell_type": "code",
   "execution_count": 11,
   "metadata": {},
   "outputs": [],
   "source": [
    "\n",
    "\n",
    "def metadata_func(record: dict, metadata: dict) -> dict:\n",
    "    metadata['customer'] = record.get('customer')\n",
    "    metadata['language'] = record.get('language')\n",
    "    return metadata\n",
    "\n",
    "loader = JSONLoader(\n",
    "    file_path='../data/tmp.json',\n",
    "    jq_schema='.data[]',\n",
    "    content_key=\"text\",\n",
    "    metadata_func=metadata_func\n",
    ")\n",
    "texts = loader.load()\n"
   ]
  },
  {
   "attachments": {},
   "cell_type": "markdown",
   "metadata": {},
   "source": [
    "### Load Embeddings to Vector Database"
   ]
  },
  {
   "cell_type": "code",
   "execution_count": 12,
   "metadata": {},
   "outputs": [],
   "source": [
    "import openai\n",
    "import os \n",
    "from langchain.embeddings.base import Embeddings\n",
    "from typing import List\n",
    "from sentence_transformers import SentenceTransformer\n",
    "from langchain.embeddings.openai import OpenAIEmbeddings"
   ]
  },
  {
   "cell_type": "code",
   "execution_count": 18,
   "metadata": {},
   "outputs": [],
   "source": [
    "class LocalHuggingFaceEmbeddings(Embeddings):\n",
    "    def __init__(self, model_id): \n",
    "        # Should use the GPU by default\n",
    "        self.model = SentenceTransformer(model_id)\n",
    "        \n",
    "    def embed_documents(self, texts: List[str]) -> List[List[float]]:\n",
    "        \"\"\"Embed a list of documents using a locally running\n",
    "           Hugging Face Sentence Transformer model\n",
    "        Args:\n",
    "            texts: The list of texts to embed.\n",
    "        Returns:\n",
    "            List of embeddings, one for each text.\n",
    "        \"\"\"\n",
    "        embeddings =self.model.encode(texts)\n",
    "        return embeddings\n",
    "\n",
    "    def embed_query(self, text: str) -> List[float]:\n",
    "        \"\"\"Embed a query using a locally running HF \n",
    "        Sentence trnsformer. \n",
    "        Args:\n",
    "            text: The text to embed.\n",
    "        Returns:\n",
    "            Embeddings for the text.\n",
    "        \"\"\"\n",
    "        embedding = self.model.encode(text)\n",
    "        return list(map(float, embedding))\n",
    "\n",
    "huggingface_embeddings = LocalHuggingFaceEmbeddings('multi-qa-mpnet-base-dot-v1')"
   ]
  },
  {
   "cell_type": "code",
   "execution_count": 18,
   "metadata": {},
   "outputs": [],
   "source": [
    "from langchain.vectorstores import FAISS\n",
    "\n",
    "vectorstore =  FAISS.from_documents(documents=texts,\n",
    "                                    embedding = huggingface_embeddings\n",
    "                                    ) # turn dcos into Vectors and store them in RAM also add metadata \n",
    "vectorstore.save_local('../data/faiss_dmac_gpt_exp')"
   ]
  },
  {
   "attachments": {},
   "cell_type": "markdown",
   "metadata": {},
   "source": [
    "### Chat Query with ConversationalRetrievalChain"
   ]
  },
  {
   "cell_type": "code",
   "execution_count": 15,
   "metadata": {},
   "outputs": [],
   "source": [
    "import os\n",
    "from dotenv import load_dotenv\n",
    "from langchain.llms import OpenAI\n",
    "from langchain.prompts import PromptTemplate\n",
    "from langchain.chains.question_answering import load_qa_chain\n",
    "from langchain.chains import ConversationalRetrievalChain\n",
    "from langchain.vectorstores import FAISS\n",
    "from langchain.chains import LLMChain\n",
    "from langchain.chains.conversational_retrieval.prompts import CONDENSE_QUESTION_PROMPT"
   ]
  },
  {
   "cell_type": "code",
   "execution_count": null,
   "metadata": {},
   "outputs": [],
   "source": [
    "chat = OpenAI(temperature=0)\n",
    "# memory = ConversationBufferMemory(memory_key=\"chat_history\", return_messages=True)\n",
    "vectordb = FAISS.load_local('../data/faiss_dmac_gpt_exp/',embeddings=huggingface_embeddings)"
   ]
  },
  {
   "attachments": {},
   "cell_type": "markdown",
   "metadata": {},
   "source": [
    "### Create Prompt"
   ]
  },
  {
   "cell_type": "code",
   "execution_count": 6,
   "metadata": {},
   "outputs": [],
   "source": [
    "def create_prompt():\n",
    "    prompt_template = \"\"\"\n",
    "    Analyze conversations between customer and sales executive from context.\n",
    "    If customer shows interest in service or Property , conversation is a potential lead.  \n",
    "    Always answer point wise with person names. Don't make up answers\n",
    "   \n",
    "    {context}\n",
    "   \n",
    "    {chat_history}\n",
    "   \n",
    "    Question: {question}\n",
    "    Answer stepwise: \n",
    "    \"\"\"\n",
    "    prompt = PromptTemplate(input_variables=[\"context\", \"question\", \"chat_history\"], template=prompt_template)\n",
    "    return prompt\n"
   ]
  },
  {
   "cell_type": "code",
   "execution_count": 52,
   "metadata": {},
   "outputs": [],
   "source": [
    "question_generator = LLMChain(llm=chat, prompt=create_prompt())\n",
    "doc_chain = load_qa_chain(chat,chain_type='map_reduce')\n",
    "\n",
    "chain = ConversationalRetrievalChain.from_llm(\n",
    "                                    llm = chat,\n",
    "                                    retriever=vectordb.as_retriever(),\n",
    "                                    # question_generator=question_generator,\n",
    "                                    combine_docs_chain_kwargs={\"prompt\": create_prompt()},\n",
    "                                    )\n",
    "chat_history = []\n"
   ]
  },
  {
   "attachments": {},
   "cell_type": "markdown",
   "metadata": {},
   "source": [
    "### Query with customers "
   ]
  },
  {
   "cell_type": "code",
   "execution_count": 53,
   "metadata": {},
   "outputs": [
    {
     "name": "stdout",
     "output_type": "stream",
     "text": [
      "query:What is Ms. Emmy Interested in? \n",
      "response:\n",
      "\n",
      "    Ms. Emmy is interested in taking a mortgage for a one bedroom apartment.\n"
     ]
    }
   ],
   "source": [
    "query = \"What is Ms. Emmy Interested in? \"\n",
    "result = chain({\"question\": query, \"chat_history\": chat_history})\n",
    "\n",
    "print(\"query:{}\".format(result['question']))\n",
    "print(\"response:\\n{}\".format(result['answer']))\n",
    "chat_history.append((query,result['answer']))"
   ]
  },
  {
   "cell_type": "code",
   "execution_count": 54,
   "metadata": {},
   "outputs": [
    {
     "name": "stdout",
     "output_type": "stream",
     "text": [
      "[('What is Ms. Emmy Interested in? ', '\\n    Ms. Emmy is interested in taking a mortgage for a one bedroom apartment.')]\n"
     ]
    }
   ],
   "source": [
    "print(chat_history)"
   ]
  },
  {
   "cell_type": "code",
   "execution_count": 55,
   "metadata": {},
   "outputs": [
    {
     "name": "stdout",
     "output_type": "stream",
     "text": [
      "query:How much mortage is she talking about ?\n",
      "response:\n",
      "\n",
      "Ms. Emmy has not yet finalized the mortgage amount for her one bedroom apartment. She will need to speak with a mortgage advisor to determine the amount.\n"
     ]
    }
   ],
   "source": [
    "query = \"How much mortage is she talking about ?\"\n",
    "result = chain({\"question\": query, \"chat_history\": chat_history})\n",
    "print(\"query:{}\".format(result['question']))\n",
    "print(\"response:\\n{}\".format(result['answer']))\n",
    "chat_history.append((query,result['answer']))"
   ]
  },
  {
   "cell_type": "code",
   "execution_count": 56,
   "metadata": {},
   "outputs": [
    {
     "name": "stdout",
     "output_type": "stream",
     "text": [
      "query:What are the next steps for her  ?\n",
      "response:\n",
      "\n",
      "1. Ms. Emmy should speak with a mortgage advisor to discuss her eligibility and the amount of mortgage she can take. \n",
      "2. The mortgage advisor will ask her to provide documents such as bank statements, passport, and other relevant documents. \n",
      "3. The mortgage advisor will then provide her with a pre-approval and she will have 45 days to avail it. \n",
      "4. After the pre-approval is finalized, Ms. Emmy can then proceed to finalize the mortgage amount for her one bedroom apartment.\n"
     ]
    }
   ],
   "source": [
    "query = \"What are the next steps for her  ?\"\n",
    "result = chain({\"question\": query, \"chat_history\": chat_history})\n",
    "print(\"query:{}\".format(result['question']))\n",
    "print(\"response:\\n{}\".format(result['answer']))\n",
    "chat_history.append((query,result['answer']))"
   ]
  },
  {
   "cell_type": "code",
   "execution_count": 8,
   "metadata": {},
   "outputs": [
    {
     "name": "stdout",
     "output_type": "stream",
     "text": [
      "query:What is the value he looking for ?\n",
      "response:\n",
      " Majeed is interested in a mortgage value between 850,000 and 900,000.\n"
     ]
    }
   ],
   "source": [
    "query = \"What is the value he looking for ?\"\n",
    "result = chain({\"question\": query, \"chat_history\": chat_history})\n",
    "print(\"query:{}\".format(result['question']))\n",
    "print(\"response:\\n{}\".format(result['answer']))\n",
    "chat_history.append((query,result['answer']))"
   ]
  },
  {
   "cell_type": "code",
   "execution_count": 16,
   "metadata": {},
   "outputs": [],
   "source": [
    "from langchain.chat_models import ChatOpenAI\n",
    "from langchain.embeddings.openai import OpenAIEmbeddings\n",
    "docsearch = FAISS.load_local(\"../vector_embeddings/faiss_damac_audio_data_openai/\", embeddings=OpenAIEmbeddings())\n",
    "prompt = create_prompt()\n",
    "chat = ChatOpenAI(verbose=True, temperature=0)\n",
    "\n",
    "qa = ConversationalRetrievalChain.from_llm(llm=chat,\n",
    "                                            retriever=docsearch.as_retriever(),\n",
    "                                            combine_docs_chain_kwargs={\"prompt\": prompt},\n",
    "                                            max_tokens_limit=4097\n",
    "                                            )"
   ]
  },
  {
   "cell_type": "code",
   "execution_count": 9,
   "metadata": {},
   "outputs": [],
   "source": [
    "chat_history = []\n",
    "generated_response = qa({'question':'summary of conversations',\"chat_history\":chat_history})\n",
    "formatted_response = f\"{generated_response['answer']} \\n\\n\"\n"
   ]
  },
  {
   "cell_type": "code",
   "execution_count": 10,
   "metadata": {},
   "outputs": [
    {
     "name": "stdout",
     "output_type": "stream",
     "text": [
      "1. Conversation between Madame Franjia and Monsieur Saddi Khenazim in French language.\n",
      "2. Madame Franjia was disconnected with Mr. Saddi Khenazim and there was a connection problem.\n",
      "3. Monsieur Saddi Khenazim is a relationship manager.\n",
      "4. It is unclear what the conversation was about as it was interrupted by the disconnection.\n",
      "5. No potential lead check was done as the conversation was not related to services or property.\n",
      "\n",
      "1. Conversation between شرام and ساس محمود in Arabic language.\n",
      "2. شرام is interested in discussing real estate services and investments.\n",
      "3. They were trying to reach a number from Union Transaction to the Agency.\n",
      "4. The conversation was interrupted and it is unclear what the outcome was.\n",
      "5. No potential lead check was done as the conversation was related to real estate investments.\n",
      "\n",
      "1. Conversation between Ms. Honey and Mahsan in English language.\n",
      "2. Mahsan is a relationship manager from Pripco Services.\n",
      "3. Ms. Honey was referred by Mr. Gian Fernando for a mortgage for a property loan.\n",
      "4. Mahsan checked if Ms. Honey had shortlisted any properties and if they were offline or ready to move in.\n",
      "5. Mahsan asked for Ms. Honey's salary, residency status, nationality, age, and credit history.\n",
      "6. Ms. Honey provided her details and confirmed having one credit card with a limit of 10,000 from City Bank.\n",
      "7. Mahsan informed Ms. Honey that her details will be shared with a mortgage advisor and they will call her back before 7 pm.\n",
      "8. A potential lead check was done as the conversation was related to a property loan. \n",
      "\n",
      "\n"
     ]
    }
   ],
   "source": [
    "print(formatted_response)"
   ]
  },
  {
   "cell_type": "code",
   "execution_count": 21,
   "metadata": {},
   "outputs": [],
   "source": [
    "from langchain.chat_models import ChatOpenAI\n",
    "from langchain.embeddings.openai import OpenAIEmbeddings\n",
    "docsearch = FAISS.load_local(\"../vector_embeddings/faiss_damac_audio_data_hugging_face/\", \n",
    "                             embeddings=huggingface_embeddings)\n",
    "prompt = create_prompt()\n",
    "chat = ChatOpenAI(verbose=True, temperature=0)\n",
    "\n",
    "qa = ConversationalRetrievalChain.from_llm(llm=chat,\n",
    "                                            retriever=docsearch.as_retriever(),\n",
    "                                            combine_docs_chain_kwargs={\"prompt\": prompt},\n",
    "                                            max_tokens_limit=4097\n",
    "                                            )"
   ]
  },
  {
   "cell_type": "code",
   "execution_count": 22,
   "metadata": {},
   "outputs": [
    {
     "name": "stderr",
     "output_type": "stream",
     "text": [
      "Retrying langchain.chat_models.openai.ChatOpenAI.completion_with_retry.<locals>._completion_with_retry in 1.0 seconds as it raised APIConnectionError: Error communicating with OpenAI: ('Connection aborted.', RemoteDisconnected('Remote end closed connection without response')).\n"
     ]
    },
    {
     "name": "stdout",
     "output_type": "stream",
     "text": [
      "1. Jyot from Pripko Services calls Madam Fatima regarding her interest in mortgage.\n",
      "2. Jyot asks Madam Fatima if she is a resident in UAE and her age (28).\n",
      "3. Madam Fatima confirms that she is a salaried employee and has been working for four years.\n",
      "4. Jyot asks if Madam Fatima has any liabilities like credit cards, personal loans, or car loans, to which she responds negatively.\n",
      "5. Jyot asks about Madam Fatima's nationality (Emirati) and if she is looking for a property, to which she responds that she hasn't decided yet.\n",
      "6. Madam Fatima confirms that this would be her first property and that she is not yet ready to discuss the price.\n",
      "7. Jyot schedules a call back for Monday next week at the same time. \n",
      "8. In the second conversation, Monsieur Saddi Khenazim from an unknown company calls Madame Franjia, but the call gets disconnected twice due to a connection problem. \n",
      "\n",
      "\n"
     ]
    }
   ],
   "source": [
    "chat_history = []\n",
    "generated_response = qa({'question':'summary of conversations',\"chat_history\":chat_history})\n",
    "formatted_response = f\"{generated_response['answer']} \\n\\n\"\n",
    "print(formatted_response)"
   ]
  },
  {
   "cell_type": "code",
   "execution_count": 8,
   "metadata": {},
   "outputs": [],
   "source": [
    "# from glob import glob \n",
    "\n",
    "# filenames = glob(\"../data/Audio/*.json\")\n",
    "\n",
    "\n",
    "# def merge_JsonFiles(filename):\n",
    "#     result = {'conversation data':[]}\n",
    "#     for f1 in filename:\n",
    "#         with open(f1, 'r') as infile:\n",
    "#             data = json.load(infile)\n",
    "#         print(f1,len(data['data']))\n",
    "#         # result['conversation data'].append(data['data'][0])\n",
    "\n",
    "#     # with open('counseling3.json', 'w') as output_file:\n",
    "#     #     json.dump(result, output_file,indent=4)\n",
    "\n",
    "# merge_JsonFiles(filenames)"
   ]
  }
 ],
 "metadata": {
  "kernelspec": {
   "display_name": "pylangchain",
   "language": "python",
   "name": "python3"
  },
  "language_info": {
   "codemirror_mode": {
    "name": "ipython",
    "version": 3
   },
   "file_extension": ".py",
   "mimetype": "text/x-python",
   "name": "python",
   "nbconvert_exporter": "python",
   "pygments_lexer": "ipython3",
   "version": "3.10.11"
  },
  "orig_nbformat": 4
 },
 "nbformat": 4,
 "nbformat_minor": 2
}
